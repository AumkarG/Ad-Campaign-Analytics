{
 "cells": [
  {
   "cell_type": "code",
   "execution_count": 397,
   "metadata": {},
   "outputs": [],
   "source": [
    "import pandas as pd\n",
    "import numpy as np\n",
    "import matplotlib\n",
    "from matplotlib import pyplot as plt"
   ]
  },
  {
   "cell_type": "markdown",
   "metadata": {},
   "source": [
    "### Read data"
   ]
  },
  {
   "cell_type": "code",
   "execution_count": 398,
   "metadata": {},
   "outputs": [],
   "source": [
    "df=pd.read_excel('Data1.xlsx')"
   ]
  },
  {
   "cell_type": "code",
   "execution_count": 399,
   "metadata": {},
   "outputs": [
    {
     "data": {
      "text/html": [
       "<div>\n",
       "<style scoped>\n",
       "    .dataframe tbody tr th:only-of-type {\n",
       "        vertical-align: middle;\n",
       "    }\n",
       "\n",
       "    .dataframe tbody tr th {\n",
       "        vertical-align: top;\n",
       "    }\n",
       "\n",
       "    .dataframe thead th {\n",
       "        text-align: right;\n",
       "    }\n",
       "</style>\n",
       "<table border=\"1\" class=\"dataframe\">\n",
       "  <thead>\n",
       "    <tr style=\"text-align: right;\">\n",
       "      <th></th>\n",
       "      <th>Date</th>\n",
       "      <th>product</th>\n",
       "      <th>phase</th>\n",
       "      <th>campaign_platform</th>\n",
       "      <th>campaign_type</th>\n",
       "      <th>communication_medium</th>\n",
       "      <th>subchannel</th>\n",
       "      <th>audience_type</th>\n",
       "      <th>creative_type</th>\n",
       "      <th>creative_name</th>\n",
       "      <th>device</th>\n",
       "      <th>age</th>\n",
       "      <th>spends</th>\n",
       "      <th>impressions</th>\n",
       "      <th>clicks</th>\n",
       "      <th>link_clicks</th>\n",
       "    </tr>\n",
       "  </thead>\n",
       "  <tbody>\n",
       "    <tr>\n",
       "      <th>0</th>\n",
       "      <td>2019-10-16</td>\n",
       "      <td>Product 1</td>\n",
       "      <td>Performance</td>\n",
       "      <td>Google Ads</td>\n",
       "      <td>Search</td>\n",
       "      <td>Search Keywords</td>\n",
       "      <td>Brand</td>\n",
       "      <td>'-</td>\n",
       "      <td>'-</td>\n",
       "      <td>'-</td>\n",
       "      <td>Desktop</td>\n",
       "      <td>18-24</td>\n",
       "      <td>0.00</td>\n",
       "      <td>2</td>\n",
       "      <td>0</td>\n",
       "      <td>0.0</td>\n",
       "    </tr>\n",
       "    <tr>\n",
       "      <th>1</th>\n",
       "      <td>2019-10-16</td>\n",
       "      <td>Product 1</td>\n",
       "      <td>Performance</td>\n",
       "      <td>Google Ads</td>\n",
       "      <td>Search</td>\n",
       "      <td>Search Keywords</td>\n",
       "      <td>Brand</td>\n",
       "      <td>'-</td>\n",
       "      <td>'-</td>\n",
       "      <td>'-</td>\n",
       "      <td>Desktop</td>\n",
       "      <td>25-34</td>\n",
       "      <td>0.00</td>\n",
       "      <td>5</td>\n",
       "      <td>0</td>\n",
       "      <td>0.0</td>\n",
       "    </tr>\n",
       "    <tr>\n",
       "      <th>2</th>\n",
       "      <td>2019-10-16</td>\n",
       "      <td>Product 1</td>\n",
       "      <td>Performance</td>\n",
       "      <td>Google Ads</td>\n",
       "      <td>Search</td>\n",
       "      <td>Search Keywords</td>\n",
       "      <td>Brand</td>\n",
       "      <td>'-</td>\n",
       "      <td>'-</td>\n",
       "      <td>'-</td>\n",
       "      <td>Desktop</td>\n",
       "      <td>35-44</td>\n",
       "      <td>0.00</td>\n",
       "      <td>1</td>\n",
       "      <td>0</td>\n",
       "      <td>0.0</td>\n",
       "    </tr>\n",
       "    <tr>\n",
       "      <th>3</th>\n",
       "      <td>2019-10-16</td>\n",
       "      <td>Product 1</td>\n",
       "      <td>Performance</td>\n",
       "      <td>Google Ads</td>\n",
       "      <td>Search</td>\n",
       "      <td>Search Keywords</td>\n",
       "      <td>Brand</td>\n",
       "      <td>'-</td>\n",
       "      <td>'-</td>\n",
       "      <td>'-</td>\n",
       "      <td>Desktop</td>\n",
       "      <td>Undetermined</td>\n",
       "      <td>14.63</td>\n",
       "      <td>5</td>\n",
       "      <td>3</td>\n",
       "      <td>0.0</td>\n",
       "    </tr>\n",
       "    <tr>\n",
       "      <th>4</th>\n",
       "      <td>2019-10-18</td>\n",
       "      <td>Product 1</td>\n",
       "      <td>Performance</td>\n",
       "      <td>Google Ads</td>\n",
       "      <td>Search</td>\n",
       "      <td>Search Keywords</td>\n",
       "      <td>Brand</td>\n",
       "      <td>'-</td>\n",
       "      <td>'-</td>\n",
       "      <td>'-</td>\n",
       "      <td>Desktop</td>\n",
       "      <td>18-24</td>\n",
       "      <td>53.31</td>\n",
       "      <td>10</td>\n",
       "      <td>2</td>\n",
       "      <td>0.0</td>\n",
       "    </tr>\n",
       "    <tr>\n",
       "      <th>5</th>\n",
       "      <td>2019-10-18</td>\n",
       "      <td>Product 1</td>\n",
       "      <td>Performance</td>\n",
       "      <td>Google Ads</td>\n",
       "      <td>Search</td>\n",
       "      <td>Search Keywords</td>\n",
       "      <td>Brand</td>\n",
       "      <td>'-</td>\n",
       "      <td>'-</td>\n",
       "      <td>'-</td>\n",
       "      <td>Desktop</td>\n",
       "      <td>25-34</td>\n",
       "      <td>285.38</td>\n",
       "      <td>61</td>\n",
       "      <td>10</td>\n",
       "      <td>0.0</td>\n",
       "    </tr>\n",
       "    <tr>\n",
       "      <th>6</th>\n",
       "      <td>2019-10-18</td>\n",
       "      <td>Product 1</td>\n",
       "      <td>Performance</td>\n",
       "      <td>Google Ads</td>\n",
       "      <td>Search</td>\n",
       "      <td>Search Keywords</td>\n",
       "      <td>Brand</td>\n",
       "      <td>'-</td>\n",
       "      <td>'-</td>\n",
       "      <td>'-</td>\n",
       "      <td>Desktop</td>\n",
       "      <td>35-44</td>\n",
       "      <td>331.70</td>\n",
       "      <td>36</td>\n",
       "      <td>10</td>\n",
       "      <td>0.0</td>\n",
       "    </tr>\n",
       "    <tr>\n",
       "      <th>7</th>\n",
       "      <td>2019-10-18</td>\n",
       "      <td>Product 1</td>\n",
       "      <td>Performance</td>\n",
       "      <td>Google Ads</td>\n",
       "      <td>Search</td>\n",
       "      <td>Search Keywords</td>\n",
       "      <td>Brand</td>\n",
       "      <td>'-</td>\n",
       "      <td>'-</td>\n",
       "      <td>'-</td>\n",
       "      <td>Desktop</td>\n",
       "      <td>45-54</td>\n",
       "      <td>0.00</td>\n",
       "      <td>4</td>\n",
       "      <td>0</td>\n",
       "      <td>0.0</td>\n",
       "    </tr>\n",
       "  </tbody>\n",
       "</table>\n",
       "</div>"
      ],
      "text/plain": [
       "        Date    product        phase campaign_platform campaign_type  \\\n",
       "0 2019-10-16  Product 1  Performance        Google Ads        Search   \n",
       "1 2019-10-16  Product 1  Performance        Google Ads        Search   \n",
       "2 2019-10-16  Product 1  Performance        Google Ads        Search   \n",
       "3 2019-10-16  Product 1  Performance        Google Ads        Search   \n",
       "4 2019-10-18  Product 1  Performance        Google Ads        Search   \n",
       "5 2019-10-18  Product 1  Performance        Google Ads        Search   \n",
       "6 2019-10-18  Product 1  Performance        Google Ads        Search   \n",
       "7 2019-10-18  Product 1  Performance        Google Ads        Search   \n",
       "\n",
       "  communication_medium subchannel audience_type creative_type creative_name  \\\n",
       "0      Search Keywords      Brand            '-            '-            '-   \n",
       "1      Search Keywords      Brand            '-            '-            '-   \n",
       "2      Search Keywords      Brand            '-            '-            '-   \n",
       "3      Search Keywords      Brand            '-            '-            '-   \n",
       "4      Search Keywords      Brand            '-            '-            '-   \n",
       "5      Search Keywords      Brand            '-            '-            '-   \n",
       "6      Search Keywords      Brand            '-            '-            '-   \n",
       "7      Search Keywords      Brand            '-            '-            '-   \n",
       "\n",
       "    device           age  spends  impressions  clicks  link_clicks  \n",
       "0  Desktop         18-24    0.00            2       0          0.0  \n",
       "1  Desktop         25-34    0.00            5       0          0.0  \n",
       "2  Desktop         35-44    0.00            1       0          0.0  \n",
       "3  Desktop  Undetermined   14.63            5       3          0.0  \n",
       "4  Desktop         18-24   53.31           10       2          0.0  \n",
       "5  Desktop         25-34  285.38           61      10          0.0  \n",
       "6  Desktop         35-44  331.70           36      10          0.0  \n",
       "7  Desktop         45-54    0.00            4       0          0.0  "
      ]
     },
     "execution_count": 399,
     "metadata": {},
     "output_type": "execute_result"
    }
   ],
   "source": [
    "df[0:8]"
   ]
  },
  {
   "cell_type": "code",
   "execution_count": 400,
   "metadata": {},
   "outputs": [
    {
     "data": {
      "text/plain": [
       "Index(['Date', 'product', 'phase', 'campaign_platform', 'campaign_type',\n",
       "       'communication_medium', 'subchannel', 'audience_type', 'creative_type',\n",
       "       'creative_name', 'device', 'age', 'spends', 'impressions', 'clicks',\n",
       "       'link_clicks'],\n",
       "      dtype='object')"
      ]
     },
     "execution_count": 400,
     "metadata": {},
     "output_type": "execute_result"
    }
   ],
   "source": [
    "df.columns"
   ]
  },
  {
   "cell_type": "code",
   "execution_count": 401,
   "metadata": {},
   "outputs": [
    {
     "data": {
      "text/plain": [
       "Date                    datetime64[ns]\n",
       "product                         object\n",
       "phase                           object\n",
       "campaign_platform               object\n",
       "campaign_type                   object\n",
       "communication_medium            object\n",
       "subchannel                      object\n",
       "audience_type                   object\n",
       "creative_type                   object\n",
       "creative_name                   object\n",
       "device                          object\n",
       "age                             object\n",
       "spends                         float64\n",
       "impressions                      int64\n",
       "clicks                           int64\n",
       "link_clicks                    float64\n",
       "dtype: object"
      ]
     },
     "execution_count": 401,
     "metadata": {},
     "output_type": "execute_result"
    }
   ],
   "source": [
    "df.dtypes"
   ]
  },
  {
   "cell_type": "code",
   "execution_count": 402,
   "metadata": {},
   "outputs": [
    {
     "name": "stdout",
     "output_type": "stream",
     "text": [
      "16834\n",
      "16\n"
     ]
    }
   ],
   "source": [
    "print(len(df))\n",
    "print(len(df.columns))"
   ]
  },
  {
   "cell_type": "code",
   "execution_count": 403,
   "metadata": {},
   "outputs": [
    {
     "data": {
      "text/html": [
       "<div>\n",
       "<style scoped>\n",
       "    .dataframe tbody tr th:only-of-type {\n",
       "        vertical-align: middle;\n",
       "    }\n",
       "\n",
       "    .dataframe tbody tr th {\n",
       "        vertical-align: top;\n",
       "    }\n",
       "\n",
       "    .dataframe thead th {\n",
       "        text-align: right;\n",
       "    }\n",
       "</style>\n",
       "<table border=\"1\" class=\"dataframe\">\n",
       "  <thead>\n",
       "    <tr style=\"text-align: right;\">\n",
       "      <th></th>\n",
       "      <th>spends</th>\n",
       "      <th>impressions</th>\n",
       "      <th>clicks</th>\n",
       "      <th>link_clicks</th>\n",
       "    </tr>\n",
       "  </thead>\n",
       "  <tbody>\n",
       "    <tr>\n",
       "      <th>count</th>\n",
       "      <td>16834.000000</td>\n",
       "      <td>16834.000000</td>\n",
       "      <td>16834.000000</td>\n",
       "      <td>16288.000000</td>\n",
       "    </tr>\n",
       "    <tr>\n",
       "      <th>mean</th>\n",
       "      <td>148.694236</td>\n",
       "      <td>287.959190</td>\n",
       "      <td>11.977783</td>\n",
       "      <td>2.170371</td>\n",
       "    </tr>\n",
       "    <tr>\n",
       "      <th>std</th>\n",
       "      <td>483.895724</td>\n",
       "      <td>2444.450313</td>\n",
       "      <td>44.796963</td>\n",
       "      <td>18.659132</td>\n",
       "    </tr>\n",
       "    <tr>\n",
       "      <th>min</th>\n",
       "      <td>0.000000</td>\n",
       "      <td>0.000000</td>\n",
       "      <td>0.000000</td>\n",
       "      <td>0.000000</td>\n",
       "    </tr>\n",
       "    <tr>\n",
       "      <th>25%</th>\n",
       "      <td>0.180000</td>\n",
       "      <td>3.000000</td>\n",
       "      <td>0.000000</td>\n",
       "      <td>0.000000</td>\n",
       "    </tr>\n",
       "    <tr>\n",
       "      <th>50%</th>\n",
       "      <td>22.535000</td>\n",
       "      <td>13.000000</td>\n",
       "      <td>2.000000</td>\n",
       "      <td>0.000000</td>\n",
       "    </tr>\n",
       "    <tr>\n",
       "      <th>75%</th>\n",
       "      <td>110.020000</td>\n",
       "      <td>64.000000</td>\n",
       "      <td>8.000000</td>\n",
       "      <td>0.000000</td>\n",
       "    </tr>\n",
       "    <tr>\n",
       "      <th>max</th>\n",
       "      <td>9221.960000</td>\n",
       "      <td>67454.000000</td>\n",
       "      <td>1075.000000</td>\n",
       "      <td>450.000000</td>\n",
       "    </tr>\n",
       "  </tbody>\n",
       "</table>\n",
       "</div>"
      ],
      "text/plain": [
       "             spends   impressions        clicks   link_clicks\n",
       "count  16834.000000  16834.000000  16834.000000  16288.000000\n",
       "mean     148.694236    287.959190     11.977783      2.170371\n",
       "std      483.895724   2444.450313     44.796963     18.659132\n",
       "min        0.000000      0.000000      0.000000      0.000000\n",
       "25%        0.180000      3.000000      0.000000      0.000000\n",
       "50%       22.535000     13.000000      2.000000      0.000000\n",
       "75%      110.020000     64.000000      8.000000      0.000000\n",
       "max     9221.960000  67454.000000   1075.000000    450.000000"
      ]
     },
     "execution_count": 403,
     "metadata": {},
     "output_type": "execute_result"
    }
   ],
   "source": [
    "df.describe()"
   ]
  },
  {
   "cell_type": "markdown",
   "metadata": {},
   "source": [
    "Four numerical variables (spends, impressions, clicks,link_clicks), the date variable, and remaining are categorical variables"
   ]
  },
  {
   "cell_type": "code",
   "execution_count": 404,
   "metadata": {},
   "outputs": [],
   "source": [
    "categorical=['product', 'phase', 'campaign_platform', 'campaign_type',\n",
    "       'communication_medium', 'subchannel', 'audience_type', 'creative_type',\n",
    "       'creative_name', 'device', 'age']"
   ]
  },
  {
   "cell_type": "code",
   "execution_count": 405,
   "metadata": {},
   "outputs": [
    {
     "name": "stdout",
     "output_type": "stream",
     "text": [
      "Counter({'Product 1': 16834})\n",
      "Counter({'Performance': 16834})\n",
      "Counter({'Google Ads': 15101, 'Facebook Ads': 1733})\n",
      "Counter({'Search': 15101, 'Conversions': 1733})\n",
      "Counter({'Search Keywords': 15101, 'Creative': 1733})\n",
      "Counter({'Brand': 7853, 'Generic': 4544, 'Competitor': 2704, 'Facebook Ads': 1733})\n",
      "Counter({\"'-\": 15101, 'Audience 1': 813, 'Audience 2': 738, 'Audience 3': 182})\n",
      "Counter({\"'-\": 15101, 'Image': 1130, 'Carousal': 603})\n",
      "Counter({\"'-\": 15101, 'Click': 644, 'Carousal': 603, 'Girl': 486})\n",
      "Counter({'Mobile': 7357, 'Desktop': 6318, 'device': 1733, 'Tablet': 1426})\n",
      "Counter({'25-34': 3097, '35-44': 2865, 'Undetermined': 2586, '45-54': 2499, '18-24': 2472, '55-64': 1757, '65 or more': 1558})\n"
     ]
    }
   ],
   "source": [
    "for i in categorical:\n",
    "    print(Counter(df[i]))"
   ]
  },
  {
   "cell_type": "markdown",
   "metadata": {},
   "source": [
    "### Insights\n",
    "\n",
    "The entire dataset contains information about Product 1 alone. <br>The 'phase' variable is Performance for all entries\n",
    "<br> Therefore, these two variable cannot be used to discriminate between any entry and can be dropped<br>\n",
    "\n",
    "The campaign type for google ads is search, since these ads are brought into contact with the audience via google search. In contrast, the facebook ads are all of type conversions, with respect to engagement with user posts. <br>\n",
    "\n",
    "The communication medium for all google ads is search key words, and for facebook ads is creative posts such as image, carousel etc.\n",
    "\n"
   ]
  },
  {
   "cell_type": "code",
   "execution_count": 406,
   "metadata": {},
   "outputs": [],
   "source": [
    "import calendar\n",
    "df['Day']=[i.weekday() for i in df.Date]\n",
    "df['Day']=[calendar.day_name[i] for i in df.Day]"
   ]
  },
  {
   "cell_type": "code",
   "execution_count": 408,
   "metadata": {},
   "outputs": [
    {
     "data": {
      "text/plain": [
       "0        Wednesday\n",
       "1        Wednesday\n",
       "2        Wednesday\n",
       "3        Wednesday\n",
       "4           Friday\n",
       "           ...    \n",
       "16829      Tuesday\n",
       "16830      Tuesday\n",
       "16831      Tuesday\n",
       "16832      Tuesday\n",
       "16833      Tuesday\n",
       "Name: Day, Length: 16834, dtype: object"
      ]
     },
     "execution_count": 408,
     "metadata": {},
     "output_type": "execute_result"
    }
   ],
   "source": [
    "df.Day"
   ]
  },
  {
   "cell_type": "code",
   "execution_count": 409,
   "metadata": {},
   "outputs": [],
   "source": [
    "fb=df[df.campaign_platform=='Facebook Ads']\n",
    "goog=df[df.campaign_platform=='Google Ads']"
   ]
  },
  {
   "cell_type": "code",
   "execution_count": 410,
   "metadata": {},
   "outputs": [
    {
     "name": "stdout",
     "output_type": "stream",
     "text": [
      "Counter({'Product 1': 1733})\n",
      "Counter({'Performance': 1733})\n",
      "Counter({'Facebook Ads': 1733})\n",
      "Counter({'Conversions': 1733})\n",
      "Counter({'Creative': 1733})\n",
      "Counter({'Facebook Ads': 1733})\n",
      "Counter({'Audience 1': 813, 'Audience 2': 738, 'Audience 3': 182})\n",
      "Counter({'Image': 1130, 'Carousal': 603})\n",
      "Counter({'Click': 644, 'Carousal': 603, 'Girl': 486})\n",
      "Counter({'device': 1733})\n",
      "Counter({'25-34': 488, '35-44': 485, '45-54': 477, '55-64': 283})\n"
     ]
    }
   ],
   "source": [
    "for i in categorical:\n",
    "    print(Counter(fb[i]))"
   ]
  },
  {
   "cell_type": "code",
   "execution_count": 411,
   "metadata": {},
   "outputs": [
    {
     "name": "stdout",
     "output_type": "stream",
     "text": [
      "Counter({'Product 1': 15101})\n",
      "Counter({'Performance': 15101})\n",
      "Counter({'Google Ads': 15101})\n",
      "Counter({'Search': 15101})\n",
      "Counter({'Search Keywords': 15101})\n",
      "Counter({'Brand': 7853, 'Generic': 4544, 'Competitor': 2704})\n",
      "Counter({\"'-\": 15101})\n",
      "Counter({\"'-\": 15101})\n",
      "Counter({\"'-\": 15101})\n",
      "Counter({'Mobile': 7357, 'Desktop': 6318, 'Tablet': 1426})\n",
      "Counter({'25-34': 2609, 'Undetermined': 2586, '18-24': 2472, '35-44': 2380, '45-54': 2022, '65 or more': 1558, '55-64': 1474})\n"
     ]
    }
   ],
   "source": [
    "for i in categorical:\n",
    "    print(Counter(goog[i]))"
   ]
  },
  {
   "cell_type": "markdown",
   "metadata": {},
   "source": [
    "The audience_type varible is redundant for google ads, as this information only has values for the facebook ads. Like-wise, creative type and creative name are only available for facebook ads, as google ads are placed not through creatives but through searches. <br> \n",
    "Subchannel and device are only available for google ads"
   ]
  },
  {
   "cell_type": "markdown",
   "metadata": {},
   "source": [
    "Therefore, the only attributes common to both facebook and google ads are the age group, clicks, link clicks, impressions and spends."
   ]
  },
  {
   "cell_type": "markdown",
   "metadata": {},
   "source": [
    "#### Hence for initial analysis, the two categories will be explored separately."
   ]
  },
  {
   "cell_type": "markdown",
   "metadata": {},
   "source": [
    "## Facebook Ads"
   ]
  },
  {
   "cell_type": "markdown",
   "metadata": {},
   "source": [
    "### Dataset granularity\n",
    "Each records show the perfmance of of one ad on a particular age group for a particular audience type"
   ]
  },
  {
   "cell_type": "code",
   "execution_count": 412,
   "metadata": {},
   "outputs": [
    {
     "data": {
      "text/html": [
       "<div>\n",
       "<style scoped>\n",
       "    .dataframe tbody tr th:only-of-type {\n",
       "        vertical-align: middle;\n",
       "    }\n",
       "\n",
       "    .dataframe tbody tr th {\n",
       "        vertical-align: top;\n",
       "    }\n",
       "\n",
       "    .dataframe thead th {\n",
       "        text-align: right;\n",
       "    }\n",
       "</style>\n",
       "<table border=\"1\" class=\"dataframe\">\n",
       "  <thead>\n",
       "    <tr style=\"text-align: right;\">\n",
       "      <th></th>\n",
       "      <th>Date</th>\n",
       "      <th>product</th>\n",
       "      <th>phase</th>\n",
       "      <th>campaign_platform</th>\n",
       "      <th>campaign_type</th>\n",
       "      <th>communication_medium</th>\n",
       "      <th>subchannel</th>\n",
       "      <th>audience_type</th>\n",
       "      <th>creative_type</th>\n",
       "      <th>creative_name</th>\n",
       "      <th>device</th>\n",
       "      <th>age</th>\n",
       "      <th>spends</th>\n",
       "      <th>impressions</th>\n",
       "      <th>clicks</th>\n",
       "      <th>link_clicks</th>\n",
       "      <th>Day</th>\n",
       "    </tr>\n",
       "  </thead>\n",
       "  <tbody>\n",
       "    <tr>\n",
       "      <th>2009</th>\n",
       "      <td>2019-12-16</td>\n",
       "      <td>Product 1</td>\n",
       "      <td>Performance</td>\n",
       "      <td>Facebook Ads</td>\n",
       "      <td>Conversions</td>\n",
       "      <td>Creative</td>\n",
       "      <td>Facebook Ads</td>\n",
       "      <td>Audience 2</td>\n",
       "      <td>Carousal</td>\n",
       "      <td>Carousal</td>\n",
       "      <td>device</td>\n",
       "      <td>25-34</td>\n",
       "      <td>70.28</td>\n",
       "      <td>730</td>\n",
       "      <td>12</td>\n",
       "      <td>9.0</td>\n",
       "      <td>Monday</td>\n",
       "    </tr>\n",
       "    <tr>\n",
       "      <th>2010</th>\n",
       "      <td>2019-12-16</td>\n",
       "      <td>Product 1</td>\n",
       "      <td>Performance</td>\n",
       "      <td>Facebook Ads</td>\n",
       "      <td>Conversions</td>\n",
       "      <td>Creative</td>\n",
       "      <td>Facebook Ads</td>\n",
       "      <td>Audience 2</td>\n",
       "      <td>Carousal</td>\n",
       "      <td>Carousal</td>\n",
       "      <td>device</td>\n",
       "      <td>35-44</td>\n",
       "      <td>7.66</td>\n",
       "      <td>71</td>\n",
       "      <td>1</td>\n",
       "      <td>1.0</td>\n",
       "      <td>Monday</td>\n",
       "    </tr>\n",
       "    <tr>\n",
       "      <th>2011</th>\n",
       "      <td>2019-12-16</td>\n",
       "      <td>Product 1</td>\n",
       "      <td>Performance</td>\n",
       "      <td>Facebook Ads</td>\n",
       "      <td>Conversions</td>\n",
       "      <td>Creative</td>\n",
       "      <td>Facebook Ads</td>\n",
       "      <td>Audience 2</td>\n",
       "      <td>Carousal</td>\n",
       "      <td>Carousal</td>\n",
       "      <td>device</td>\n",
       "      <td>45-54</td>\n",
       "      <td>3.80</td>\n",
       "      <td>32</td>\n",
       "      <td>1</td>\n",
       "      <td>NaN</td>\n",
       "      <td>Monday</td>\n",
       "    </tr>\n",
       "    <tr>\n",
       "      <th>2012</th>\n",
       "      <td>2019-12-16</td>\n",
       "      <td>Product 1</td>\n",
       "      <td>Performance</td>\n",
       "      <td>Facebook Ads</td>\n",
       "      <td>Conversions</td>\n",
       "      <td>Creative</td>\n",
       "      <td>Facebook Ads</td>\n",
       "      <td>Audience 2</td>\n",
       "      <td>Carousal</td>\n",
       "      <td>Carousal</td>\n",
       "      <td>device</td>\n",
       "      <td>55-64</td>\n",
       "      <td>0.45</td>\n",
       "      <td>3</td>\n",
       "      <td>0</td>\n",
       "      <td>NaN</td>\n",
       "      <td>Monday</td>\n",
       "    </tr>\n",
       "    <tr>\n",
       "      <th>2013</th>\n",
       "      <td>2019-12-16</td>\n",
       "      <td>Product 1</td>\n",
       "      <td>Performance</td>\n",
       "      <td>Facebook Ads</td>\n",
       "      <td>Conversions</td>\n",
       "      <td>Creative</td>\n",
       "      <td>Facebook Ads</td>\n",
       "      <td>Audience 2</td>\n",
       "      <td>Image</td>\n",
       "      <td>Click</td>\n",
       "      <td>device</td>\n",
       "      <td>25-34</td>\n",
       "      <td>117.13</td>\n",
       "      <td>638</td>\n",
       "      <td>36</td>\n",
       "      <td>21.0</td>\n",
       "      <td>Monday</td>\n",
       "    </tr>\n",
       "  </tbody>\n",
       "</table>\n",
       "</div>"
      ],
      "text/plain": [
       "           Date    product        phase campaign_platform campaign_type  \\\n",
       "2009 2019-12-16  Product 1  Performance      Facebook Ads   Conversions   \n",
       "2010 2019-12-16  Product 1  Performance      Facebook Ads   Conversions   \n",
       "2011 2019-12-16  Product 1  Performance      Facebook Ads   Conversions   \n",
       "2012 2019-12-16  Product 1  Performance      Facebook Ads   Conversions   \n",
       "2013 2019-12-16  Product 1  Performance      Facebook Ads   Conversions   \n",
       "\n",
       "     communication_medium    subchannel audience_type creative_type  \\\n",
       "2009             Creative  Facebook Ads    Audience 2      Carousal   \n",
       "2010             Creative  Facebook Ads    Audience 2      Carousal   \n",
       "2011             Creative  Facebook Ads    Audience 2      Carousal   \n",
       "2012             Creative  Facebook Ads    Audience 2      Carousal   \n",
       "2013             Creative  Facebook Ads    Audience 2         Image   \n",
       "\n",
       "     creative_name  device    age  spends  impressions  clicks  link_clicks  \\\n",
       "2009      Carousal  device  25-34   70.28          730      12          9.0   \n",
       "2010      Carousal  device  35-44    7.66           71       1          1.0   \n",
       "2011      Carousal  device  45-54    3.80           32       1          NaN   \n",
       "2012      Carousal  device  55-64    0.45            3       0          NaN   \n",
       "2013         Click  device  25-34  117.13          638      36         21.0   \n",
       "\n",
       "         Day  \n",
       "2009  Monday  \n",
       "2010  Monday  \n",
       "2011  Monday  \n",
       "2012  Monday  \n",
       "2013  Monday  "
      ]
     },
     "execution_count": 412,
     "metadata": {},
     "output_type": "execute_result"
    }
   ],
   "source": [
    "fb.head()"
   ]
  },
  {
   "cell_type": "code",
   "execution_count": 413,
   "metadata": {},
   "outputs": [
    {
     "name": "stdout",
     "output_type": "stream",
     "text": [
      "product                          Counter({'Product 1': 1733})\n",
      "phase                          Counter({'Performance': 1733})\n",
      "campaign_platform                          Counter({'Facebook Ads': 1733})\n",
      "campaign_type                          Counter({'Conversions': 1733})\n",
      "communication_medium                          Counter({'Creative': 1733})\n",
      "subchannel                          Counter({'Facebook Ads': 1733})\n",
      "audience_type                          Counter({'Audience 1': 813, 'Audience 2': 738, 'Audience 3': 182})\n",
      "creative_type                          Counter({'Image': 1130, 'Carousal': 603})\n",
      "creative_name                          Counter({'Click': 644, 'Carousal': 603, 'Girl': 486})\n",
      "device                          Counter({'device': 1733})\n",
      "age                          Counter({'25-34': 488, '35-44': 485, '45-54': 477, '55-64': 283})\n"
     ]
    }
   ],
   "source": [
    "for i in categorical:\n",
    "    print(i,\"                        \",Counter(fb[i]))"
   ]
  },
  {
   "cell_type": "markdown",
   "metadata": {},
   "source": [
    "### Indepth Analysis of Facebook Ads"
   ]
  },
  {
   "cell_type": "code",
   "execution_count": 432,
   "metadata": {},
   "outputs": [
    {
     "data": {
      "text/html": [
       "<div>\n",
       "<style scoped>\n",
       "    .dataframe tbody tr th:only-of-type {\n",
       "        vertical-align: middle;\n",
       "    }\n",
       "\n",
       "    .dataframe tbody tr th {\n",
       "        vertical-align: top;\n",
       "    }\n",
       "\n",
       "    .dataframe thead th {\n",
       "        text-align: right;\n",
       "    }\n",
       "</style>\n",
       "<table border=\"1\" class=\"dataframe\">\n",
       "  <thead>\n",
       "    <tr style=\"text-align: right;\">\n",
       "      <th></th>\n",
       "      <th>Date</th>\n",
       "      <th>audience_type</th>\n",
       "      <th>creative_type</th>\n",
       "      <th>creative_name</th>\n",
       "      <th>age</th>\n",
       "      <th>spends</th>\n",
       "      <th>impressions</th>\n",
       "      <th>clicks</th>\n",
       "      <th>link_clicks</th>\n",
       "      <th>Day</th>\n",
       "    </tr>\n",
       "  </thead>\n",
       "  <tbody>\n",
       "    <tr>\n",
       "      <th>2009</th>\n",
       "      <td>2019-12-16</td>\n",
       "      <td>Audience 2</td>\n",
       "      <td>Carousal</td>\n",
       "      <td>Carousal</td>\n",
       "      <td>25-34</td>\n",
       "      <td>70.280000</td>\n",
       "      <td>730</td>\n",
       "      <td>12</td>\n",
       "      <td>9.0</td>\n",
       "      <td>Monday</td>\n",
       "    </tr>\n",
       "    <tr>\n",
       "      <th>2010</th>\n",
       "      <td>2019-12-16</td>\n",
       "      <td>Audience 2</td>\n",
       "      <td>Carousal</td>\n",
       "      <td>Carousal</td>\n",
       "      <td>35-44</td>\n",
       "      <td>7.660000</td>\n",
       "      <td>71</td>\n",
       "      <td>1</td>\n",
       "      <td>1.0</td>\n",
       "      <td>Monday</td>\n",
       "    </tr>\n",
       "    <tr>\n",
       "      <th>2011</th>\n",
       "      <td>2019-12-16</td>\n",
       "      <td>Audience 2</td>\n",
       "      <td>Carousal</td>\n",
       "      <td>Carousal</td>\n",
       "      <td>45-54</td>\n",
       "      <td>3.800000</td>\n",
       "      <td>32</td>\n",
       "      <td>1</td>\n",
       "      <td>NaN</td>\n",
       "      <td>Monday</td>\n",
       "    </tr>\n",
       "    <tr>\n",
       "      <th>2012</th>\n",
       "      <td>2019-12-16</td>\n",
       "      <td>Audience 2</td>\n",
       "      <td>Carousal</td>\n",
       "      <td>Carousal</td>\n",
       "      <td>55-64</td>\n",
       "      <td>0.450000</td>\n",
       "      <td>3</td>\n",
       "      <td>0</td>\n",
       "      <td>NaN</td>\n",
       "      <td>Monday</td>\n",
       "    </tr>\n",
       "    <tr>\n",
       "      <th>2013</th>\n",
       "      <td>2019-12-16</td>\n",
       "      <td>Audience 2</td>\n",
       "      <td>Image</td>\n",
       "      <td>Click</td>\n",
       "      <td>25-34</td>\n",
       "      <td>117.130000</td>\n",
       "      <td>638</td>\n",
       "      <td>36</td>\n",
       "      <td>21.0</td>\n",
       "      <td>Monday</td>\n",
       "    </tr>\n",
       "    <tr>\n",
       "      <th>...</th>\n",
       "      <td>...</td>\n",
       "      <td>...</td>\n",
       "      <td>...</td>\n",
       "      <td>...</td>\n",
       "      <td>...</td>\n",
       "      <td>...</td>\n",
       "      <td>...</td>\n",
       "      <td>...</td>\n",
       "      <td>...</td>\n",
       "      <td>...</td>\n",
       "    </tr>\n",
       "    <tr>\n",
       "      <th>13808</th>\n",
       "      <td>2020-03-20</td>\n",
       "      <td>Audience 1</td>\n",
       "      <td>Image</td>\n",
       "      <td>Click</td>\n",
       "      <td>55-64</td>\n",
       "      <td>6.409971</td>\n",
       "      <td>68</td>\n",
       "      <td>1</td>\n",
       "      <td>NaN</td>\n",
       "      <td>Friday</td>\n",
       "    </tr>\n",
       "    <tr>\n",
       "      <th>13809</th>\n",
       "      <td>2020-03-20</td>\n",
       "      <td>Audience 1</td>\n",
       "      <td>Image</td>\n",
       "      <td>Girl</td>\n",
       "      <td>25-34</td>\n",
       "      <td>255.620000</td>\n",
       "      <td>1895</td>\n",
       "      <td>30</td>\n",
       "      <td>11.0</td>\n",
       "      <td>Friday</td>\n",
       "    </tr>\n",
       "    <tr>\n",
       "      <th>13810</th>\n",
       "      <td>2020-03-20</td>\n",
       "      <td>Audience 1</td>\n",
       "      <td>Image</td>\n",
       "      <td>Girl</td>\n",
       "      <td>35-44</td>\n",
       "      <td>89.060000</td>\n",
       "      <td>764</td>\n",
       "      <td>7</td>\n",
       "      <td>1.0</td>\n",
       "      <td>Friday</td>\n",
       "    </tr>\n",
       "    <tr>\n",
       "      <th>13811</th>\n",
       "      <td>2020-03-20</td>\n",
       "      <td>Audience 1</td>\n",
       "      <td>Image</td>\n",
       "      <td>Girl</td>\n",
       "      <td>45-54</td>\n",
       "      <td>24.350000</td>\n",
       "      <td>228</td>\n",
       "      <td>11</td>\n",
       "      <td>3.0</td>\n",
       "      <td>Friday</td>\n",
       "    </tr>\n",
       "    <tr>\n",
       "      <th>13812</th>\n",
       "      <td>2020-03-20</td>\n",
       "      <td>Audience 1</td>\n",
       "      <td>Image</td>\n",
       "      <td>Girl</td>\n",
       "      <td>55-64</td>\n",
       "      <td>1.430000</td>\n",
       "      <td>18</td>\n",
       "      <td>1</td>\n",
       "      <td>NaN</td>\n",
       "      <td>Friday</td>\n",
       "    </tr>\n",
       "  </tbody>\n",
       "</table>\n",
       "<p>1733 rows × 10 columns</p>\n",
       "</div>"
      ],
      "text/plain": [
       "            Date audience_type creative_type creative_name    age      spends  \\\n",
       "2009  2019-12-16    Audience 2      Carousal      Carousal  25-34   70.280000   \n",
       "2010  2019-12-16    Audience 2      Carousal      Carousal  35-44    7.660000   \n",
       "2011  2019-12-16    Audience 2      Carousal      Carousal  45-54    3.800000   \n",
       "2012  2019-12-16    Audience 2      Carousal      Carousal  55-64    0.450000   \n",
       "2013  2019-12-16    Audience 2         Image         Click  25-34  117.130000   \n",
       "...          ...           ...           ...           ...    ...         ...   \n",
       "13808 2020-03-20    Audience 1         Image         Click  55-64    6.409971   \n",
       "13809 2020-03-20    Audience 1         Image          Girl  25-34  255.620000   \n",
       "13810 2020-03-20    Audience 1         Image          Girl  35-44   89.060000   \n",
       "13811 2020-03-20    Audience 1         Image          Girl  45-54   24.350000   \n",
       "13812 2020-03-20    Audience 1         Image          Girl  55-64    1.430000   \n",
       "\n",
       "       impressions  clicks  link_clicks     Day  \n",
       "2009           730      12          9.0  Monday  \n",
       "2010            71       1          1.0  Monday  \n",
       "2011            32       1          NaN  Monday  \n",
       "2012             3       0          NaN  Monday  \n",
       "2013           638      36         21.0  Monday  \n",
       "...            ...     ...          ...     ...  \n",
       "13808           68       1          NaN  Friday  \n",
       "13809         1895      30         11.0  Friday  \n",
       "13810          764       7          1.0  Friday  \n",
       "13811          228      11          3.0  Friday  \n",
       "13812           18       1          NaN  Friday  \n",
       "\n",
       "[1733 rows x 10 columns]"
      ]
     },
     "execution_count": 432,
     "metadata": {},
     "output_type": "execute_result"
    }
   ],
   "source": [
    "fb1=fb[['Date','audience_type', 'creative_type',\n",
    "       'creative_name',  'age','spends', 'impressions', 'clicks',\n",
    "       'link_clicks','Day']]\n",
    "fb1"
   ]
  },
  {
   "cell_type": "markdown",
   "metadata": {},
   "source": [
    "## Date"
   ]
  },
  {
   "cell_type": "markdown",
   "metadata": {},
   "source": [
    "### GroupBy Sum per day"
   ]
  },
  {
   "cell_type": "code",
   "execution_count": 433,
   "metadata": {},
   "outputs": [],
   "source": [
    "dt=fb1.groupby(['Date']).agg('sum')"
   ]
  },
  {
   "cell_type": "code",
   "execution_count": 434,
   "metadata": {},
   "outputs": [
    {
     "data": {
      "text/html": [
       "<div>\n",
       "<style scoped>\n",
       "    .dataframe tbody tr th:only-of-type {\n",
       "        vertical-align: middle;\n",
       "    }\n",
       "\n",
       "    .dataframe tbody tr th {\n",
       "        vertical-align: top;\n",
       "    }\n",
       "\n",
       "    .dataframe thead th {\n",
       "        text-align: right;\n",
       "    }\n",
       "</style>\n",
       "<table border=\"1\" class=\"dataframe\">\n",
       "  <thead>\n",
       "    <tr style=\"text-align: right;\">\n",
       "      <th></th>\n",
       "      <th>spends</th>\n",
       "      <th>impressions</th>\n",
       "      <th>clicks</th>\n",
       "      <th>link_clicks</th>\n",
       "    </tr>\n",
       "    <tr>\n",
       "      <th>Date</th>\n",
       "      <th></th>\n",
       "      <th></th>\n",
       "      <th></th>\n",
       "      <th></th>\n",
       "    </tr>\n",
       "  </thead>\n",
       "  <tbody>\n",
       "    <tr>\n",
       "      <th>2019-12-16</th>\n",
       "      <td>592.26</td>\n",
       "      <td>3662</td>\n",
       "      <td>145</td>\n",
       "      <td>83.0</td>\n",
       "    </tr>\n",
       "    <tr>\n",
       "      <th>2019-12-17</th>\n",
       "      <td>1932.17</td>\n",
       "      <td>13975</td>\n",
       "      <td>342</td>\n",
       "      <td>231.0</td>\n",
       "    </tr>\n",
       "    <tr>\n",
       "      <th>2019-12-18</th>\n",
       "      <td>2007.18</td>\n",
       "      <td>13384</td>\n",
       "      <td>531</td>\n",
       "      <td>301.0</td>\n",
       "    </tr>\n",
       "    <tr>\n",
       "      <th>2019-12-19</th>\n",
       "      <td>1999.79</td>\n",
       "      <td>13539</td>\n",
       "      <td>424</td>\n",
       "      <td>234.0</td>\n",
       "    </tr>\n",
       "    <tr>\n",
       "      <th>2019-12-20</th>\n",
       "      <td>2002.92</td>\n",
       "      <td>13367</td>\n",
       "      <td>517</td>\n",
       "      <td>285.0</td>\n",
       "    </tr>\n",
       "  </tbody>\n",
       "</table>\n",
       "</div>"
      ],
      "text/plain": [
       "             spends  impressions  clicks  link_clicks\n",
       "Date                                                 \n",
       "2019-12-16   592.26         3662     145         83.0\n",
       "2019-12-17  1932.17        13975     342        231.0\n",
       "2019-12-18  2007.18        13384     531        301.0\n",
       "2019-12-19  1999.79        13539     424        234.0\n",
       "2019-12-20  2002.92        13367     517        285.0"
      ]
     },
     "execution_count": 434,
     "metadata": {},
     "output_type": "execute_result"
    }
   ],
   "source": [
    "dt.head()"
   ]
  },
  {
   "cell_type": "markdown",
   "metadata": {},
   "source": [
    "### GroupBy  Average (per post per day)"
   ]
  },
  {
   "cell_type": "code",
   "execution_count": 435,
   "metadata": {},
   "outputs": [],
   "source": [
    "dt1=fb1.groupby(['Date']).agg('mean')"
   ]
  },
  {
   "cell_type": "code",
   "execution_count": 436,
   "metadata": {},
   "outputs": [
    {
     "data": {
      "text/html": [
       "<div>\n",
       "<style scoped>\n",
       "    .dataframe tbody tr th:only-of-type {\n",
       "        vertical-align: middle;\n",
       "    }\n",
       "\n",
       "    .dataframe tbody tr th {\n",
       "        vertical-align: top;\n",
       "    }\n",
       "\n",
       "    .dataframe thead th {\n",
       "        text-align: right;\n",
       "    }\n",
       "</style>\n",
       "<table border=\"1\" class=\"dataframe\">\n",
       "  <thead>\n",
       "    <tr style=\"text-align: right;\">\n",
       "      <th></th>\n",
       "      <th>spends</th>\n",
       "      <th>impressions</th>\n",
       "      <th>clicks</th>\n",
       "      <th>link_clicks</th>\n",
       "    </tr>\n",
       "    <tr>\n",
       "      <th>Date</th>\n",
       "      <th></th>\n",
       "      <th></th>\n",
       "      <th></th>\n",
       "      <th></th>\n",
       "    </tr>\n",
       "  </thead>\n",
       "  <tbody>\n",
       "    <tr>\n",
       "      <th>2019-12-16</th>\n",
       "      <td>28.202857</td>\n",
       "      <td>174.380952</td>\n",
       "      <td>6.904762</td>\n",
       "      <td>6.916667</td>\n",
       "    </tr>\n",
       "    <tr>\n",
       "      <th>2019-12-17</th>\n",
       "      <td>87.825909</td>\n",
       "      <td>635.227273</td>\n",
       "      <td>15.545455</td>\n",
       "      <td>12.157895</td>\n",
       "    </tr>\n",
       "    <tr>\n",
       "      <th>2019-12-18</th>\n",
       "      <td>91.235455</td>\n",
       "      <td>608.363636</td>\n",
       "      <td>24.136364</td>\n",
       "      <td>16.722222</td>\n",
       "    </tr>\n",
       "    <tr>\n",
       "      <th>2019-12-19</th>\n",
       "      <td>90.899545</td>\n",
       "      <td>615.409091</td>\n",
       "      <td>19.272727</td>\n",
       "      <td>14.625000</td>\n",
       "    </tr>\n",
       "    <tr>\n",
       "      <th>2019-12-20</th>\n",
       "      <td>95.377143</td>\n",
       "      <td>636.523810</td>\n",
       "      <td>24.619048</td>\n",
       "      <td>19.000000</td>\n",
       "    </tr>\n",
       "  </tbody>\n",
       "</table>\n",
       "</div>"
      ],
      "text/plain": [
       "               spends  impressions     clicks  link_clicks\n",
       "Date                                                      \n",
       "2019-12-16  28.202857   174.380952   6.904762     6.916667\n",
       "2019-12-17  87.825909   635.227273  15.545455    12.157895\n",
       "2019-12-18  91.235455   608.363636  24.136364    16.722222\n",
       "2019-12-19  90.899545   615.409091  19.272727    14.625000\n",
       "2019-12-20  95.377143   636.523810  24.619048    19.000000"
      ]
     },
     "execution_count": 436,
     "metadata": {},
     "output_type": "execute_result"
    }
   ],
   "source": [
    "dt1.head()"
   ]
  },
  {
   "cell_type": "markdown",
   "metadata": {},
   "source": [
    "### Plot"
   ]
  },
  {
   "cell_type": "markdown",
   "metadata": {},
   "source": [
    "### Time series of total spendings vs date"
   ]
  },
  {
   "cell_type": "code",
   "execution_count": 437,
   "metadata": {},
   "outputs": [
    {
     "data": {
      "image/png": "[encoded data removed]",
      "text/plain": [
       "<Figure size 432x288 with 1 Axes>"
      ]
     },
     "metadata": {
      "needs_background": "light"
     },
     "output_type": "display_data"
    }
   ],
   "source": [
    "ts=pd.Series(dt.spends,index=dt.index)\n",
    "ixs=[]\n",
    "j=0\n",
    "for i in dt.index:\n",
    "    if(j%10==0):\n",
    "        ixs.append(i)\n",
    "    j+=1\n",
    "ax=ts.plot()\n",
    "ax.set_xticks(ixs)\n",
    "plt.show()"
   ]
  },
  {
   "cell_type": "markdown",
   "metadata": {},
   "source": [
    "### Average spending vs date"
   ]
  },
  {
   "cell_type": "code",
   "execution_count": 438,
   "metadata": {},
   "outputs": [
    {
     "data": {
      "image/png": "[encoded data removed]",
      "text/plain": [
       "<Figure size 432x288 with 1 Axes>"
      ]
     },
     "metadata": {
      "needs_background": "light"
     },
     "output_type": "display_data"
    }
   ],
   "source": [
    "from matplotlib.pyplot import figure\n",
    "ts1=pd.Series(dt1.spends,index=dt.index)\n",
    "ax1=ts1.plot()\n",
    "ax1.set_xticks(ixs)\n",
    "plt.show()"
   ]
  },
  {
   "cell_type": "markdown",
   "metadata": {},
   "source": [
    "While the two graphs are fairly similar,some major differences at some points indicate, that high spending occured on a particular day simply because more ads were posted and this didn't necessarily mean that the ads individually were successful, as seen in the low per ad spending for those particular days"
   ]
  },
  {
   "cell_type": "markdown",
   "metadata": {},
   "source": [
    "#### Ten busiest days in terms of expenditure"
   ]
  },
  {
   "cell_type": "code",
   "execution_count": 439,
   "metadata": {},
   "outputs": [
    {
     "data": {
      "text/html": [
       "<div>\n",
       "<style scoped>\n",
       "    .dataframe tbody tr th:only-of-type {\n",
       "        vertical-align: middle;\n",
       "    }\n",
       "\n",
       "    .dataframe tbody tr th {\n",
       "        vertical-align: top;\n",
       "    }\n",
       "\n",
       "    .dataframe thead th {\n",
       "        text-align: right;\n",
       "    }\n",
       "</style>\n",
       "<table border=\"1\" class=\"dataframe\">\n",
       "  <thead>\n",
       "    <tr style=\"text-align: right;\">\n",
       "      <th></th>\n",
       "      <th>spends</th>\n",
       "      <th>impressions</th>\n",
       "      <th>clicks</th>\n",
       "      <th>link_clicks</th>\n",
       "    </tr>\n",
       "    <tr>\n",
       "      <th>Date</th>\n",
       "      <th></th>\n",
       "      <th></th>\n",
       "      <th></th>\n",
       "      <th></th>\n",
       "    </tr>\n",
       "  </thead>\n",
       "  <tbody>\n",
       "    <tr>\n",
       "      <th>2020-03-07</th>\n",
       "      <td>13375.590000</td>\n",
       "      <td>93926</td>\n",
       "      <td>1325</td>\n",
       "      <td>576.0</td>\n",
       "    </tr>\n",
       "    <tr>\n",
       "      <th>2020-02-24</th>\n",
       "      <td>13127.040000</td>\n",
       "      <td>95749</td>\n",
       "      <td>1585</td>\n",
       "      <td>662.0</td>\n",
       "    </tr>\n",
       "    <tr>\n",
       "      <th>2020-02-23</th>\n",
       "      <td>13114.659999</td>\n",
       "      <td>87422</td>\n",
       "      <td>1647</td>\n",
       "      <td>702.0</td>\n",
       "    </tr>\n",
       "    <tr>\n",
       "      <th>2020-02-16</th>\n",
       "      <td>13112.360000</td>\n",
       "      <td>70787</td>\n",
       "      <td>1547</td>\n",
       "      <td>709.0</td>\n",
       "    </tr>\n",
       "    <tr>\n",
       "      <th>2020-02-20</th>\n",
       "      <td>13094.300000</td>\n",
       "      <td>68816</td>\n",
       "      <td>1220</td>\n",
       "      <td>554.0</td>\n",
       "    </tr>\n",
       "    <tr>\n",
       "      <th>2020-02-21</th>\n",
       "      <td>13093.100000</td>\n",
       "      <td>72304</td>\n",
       "      <td>1407</td>\n",
       "      <td>576.0</td>\n",
       "    </tr>\n",
       "    <tr>\n",
       "      <th>2020-02-17</th>\n",
       "      <td>13059.940000</td>\n",
       "      <td>81965</td>\n",
       "      <td>1490</td>\n",
       "      <td>667.0</td>\n",
       "    </tr>\n",
       "    <tr>\n",
       "      <th>2020-02-19</th>\n",
       "      <td>12990.190000</td>\n",
       "      <td>81145</td>\n",
       "      <td>1352</td>\n",
       "      <td>586.0</td>\n",
       "    </tr>\n",
       "    <tr>\n",
       "      <th>2020-03-12</th>\n",
       "      <td>12923.470000</td>\n",
       "      <td>98784</td>\n",
       "      <td>1533</td>\n",
       "      <td>633.0</td>\n",
       "    </tr>\n",
       "    <tr>\n",
       "      <th>2020-02-18</th>\n",
       "      <td>12843.620000</td>\n",
       "      <td>78189</td>\n",
       "      <td>1448</td>\n",
       "      <td>672.0</td>\n",
       "    </tr>\n",
       "  </tbody>\n",
       "</table>\n",
       "</div>"
      ],
      "text/plain": [
       "                  spends  impressions  clicks  link_clicks\n",
       "Date                                                      \n",
       "2020-03-07  13375.590000        93926    1325        576.0\n",
       "2020-02-24  13127.040000        95749    1585        662.0\n",
       "2020-02-23  13114.659999        87422    1647        702.0\n",
       "2020-02-16  13112.360000        70787    1547        709.0\n",
       "2020-02-20  13094.300000        68816    1220        554.0\n",
       "2020-02-21  13093.100000        72304    1407        576.0\n",
       "2020-02-17  13059.940000        81965    1490        667.0\n",
       "2020-02-19  12990.190000        81145    1352        586.0\n",
       "2020-03-12  12923.470000        98784    1533        633.0\n",
       "2020-02-18  12843.620000        78189    1448        672.0"
      ]
     },
     "execution_count": 439,
     "metadata": {},
     "output_type": "execute_result"
    }
   ],
   "source": [
    "dt.sort_values(by='spends',ascending=False).head(10)"
   ]
  },
  {
   "cell_type": "markdown",
   "metadata": {},
   "source": [
    "#### Ten days with least spending"
   ]
  },
  {
   "cell_type": "code",
   "execution_count": 440,
   "metadata": {},
   "outputs": [
    {
     "data": {
      "text/html": [
       "<div>\n",
       "<style scoped>\n",
       "    .dataframe tbody tr th:only-of-type {\n",
       "        vertical-align: middle;\n",
       "    }\n",
       "\n",
       "    .dataframe tbody tr th {\n",
       "        vertical-align: top;\n",
       "    }\n",
       "\n",
       "    .dataframe thead th {\n",
       "        text-align: right;\n",
       "    }\n",
       "</style>\n",
       "<table border=\"1\" class=\"dataframe\">\n",
       "  <thead>\n",
       "    <tr style=\"text-align: right;\">\n",
       "      <th></th>\n",
       "      <th>spends</th>\n",
       "      <th>impressions</th>\n",
       "      <th>clicks</th>\n",
       "      <th>link_clicks</th>\n",
       "    </tr>\n",
       "    <tr>\n",
       "      <th>Date</th>\n",
       "      <th></th>\n",
       "      <th></th>\n",
       "      <th></th>\n",
       "      <th></th>\n",
       "    </tr>\n",
       "  </thead>\n",
       "  <tbody>\n",
       "    <tr>\n",
       "      <th>2020-01-20</th>\n",
       "      <td>345.02</td>\n",
       "      <td>3686</td>\n",
       "      <td>111</td>\n",
       "      <td>62.0</td>\n",
       "    </tr>\n",
       "    <tr>\n",
       "      <th>2020-01-26</th>\n",
       "      <td>451.58</td>\n",
       "      <td>3057</td>\n",
       "      <td>141</td>\n",
       "      <td>75.0</td>\n",
       "    </tr>\n",
       "    <tr>\n",
       "      <th>2020-01-25</th>\n",
       "      <td>461.29</td>\n",
       "      <td>3877</td>\n",
       "      <td>178</td>\n",
       "      <td>86.0</td>\n",
       "    </tr>\n",
       "    <tr>\n",
       "      <th>2020-01-11</th>\n",
       "      <td>476.58</td>\n",
       "      <td>3637</td>\n",
       "      <td>171</td>\n",
       "      <td>84.0</td>\n",
       "    </tr>\n",
       "    <tr>\n",
       "      <th>2020-01-17</th>\n",
       "      <td>480.96</td>\n",
       "      <td>3909</td>\n",
       "      <td>185</td>\n",
       "      <td>93.0</td>\n",
       "    </tr>\n",
       "    <tr>\n",
       "      <th>2020-01-15</th>\n",
       "      <td>498.12</td>\n",
       "      <td>4469</td>\n",
       "      <td>195</td>\n",
       "      <td>98.0</td>\n",
       "    </tr>\n",
       "    <tr>\n",
       "      <th>2020-01-16</th>\n",
       "      <td>499.28</td>\n",
       "      <td>4738</td>\n",
       "      <td>233</td>\n",
       "      <td>103.0</td>\n",
       "    </tr>\n",
       "    <tr>\n",
       "      <th>2020-01-14</th>\n",
       "      <td>501.71</td>\n",
       "      <td>4591</td>\n",
       "      <td>204</td>\n",
       "      <td>94.0</td>\n",
       "    </tr>\n",
       "    <tr>\n",
       "      <th>2020-01-19</th>\n",
       "      <td>503.71</td>\n",
       "      <td>4047</td>\n",
       "      <td>172</td>\n",
       "      <td>90.0</td>\n",
       "    </tr>\n",
       "    <tr>\n",
       "      <th>2020-01-12</th>\n",
       "      <td>503.78</td>\n",
       "      <td>4197</td>\n",
       "      <td>190</td>\n",
       "      <td>85.0</td>\n",
       "    </tr>\n",
       "  </tbody>\n",
       "</table>\n",
       "</div>"
      ],
      "text/plain": [
       "            spends  impressions  clicks  link_clicks\n",
       "Date                                                \n",
       "2020-01-20  345.02         3686     111         62.0\n",
       "2020-01-26  451.58         3057     141         75.0\n",
       "2020-01-25  461.29         3877     178         86.0\n",
       "2020-01-11  476.58         3637     171         84.0\n",
       "2020-01-17  480.96         3909     185         93.0\n",
       "2020-01-15  498.12         4469     195         98.0\n",
       "2020-01-16  499.28         4738     233        103.0\n",
       "2020-01-14  501.71         4591     204         94.0\n",
       "2020-01-19  503.71         4047     172         90.0\n",
       "2020-01-12  503.78         4197     190         85.0"
      ]
     },
     "execution_count": 440,
     "metadata": {},
     "output_type": "execute_result"
    }
   ],
   "source": [
    "dt.sort_values(by='spends').head(10)"
   ]
  },
  {
   "cell_type": "markdown",
   "metadata": {},
   "source": [
    "## Impressions vs days"
   ]
  },
  {
   "cell_type": "markdown",
   "metadata": {},
   "source": [
    "### Total impressions vs days"
   ]
  },
  {
   "cell_type": "code",
   "execution_count": 441,
   "metadata": {},
   "outputs": [
    {
     "data": {
      "text/plain": [
       "<matplotlib.axes._subplots.AxesSubplot at 0x284c92fd3c8>"
      ]
     },
     "execution_count": 441,
     "metadata": {},
     "output_type": "execute_result"
    },
    {
     "data": {
      "image/png": "[encoded data removed]",
      "text/plain": [
       "<Figure size 432x288 with 1 Axes>"
      ]
     },
     "metadata": {
      "needs_background": "light"
     },
     "output_type": "display_data"
    }
   ],
   "source": [
    "ts=pd.Series(dt.impressions,index=dt.index)\n",
    "ts.plot()"
   ]
  },
  {
   "cell_type": "code",
   "execution_count": 442,
   "metadata": {},
   "outputs": [
    {
     "data": {
      "text/plain": [
       "Date\n",
       "2020-03-11    117611\n",
       "2020-03-13    102576\n",
       "2020-03-01    100080\n",
       "2020-03-14     99505\n",
       "2020-03-12     98784\n",
       "2020-03-15     97583\n",
       "2020-03-16     97581\n",
       "2020-02-24     95749\n",
       "2020-03-17     95185\n",
       "2020-02-26     93953\n",
       "Name: impressions, dtype: int64"
      ]
     },
     "execution_count": 442,
     "metadata": {},
     "output_type": "execute_result"
    }
   ],
   "source": [
    "dt.sort_values(by='impressions',ascending=False)['impressions'].head(10)"
   ]
  },
  {
   "cell_type": "markdown",
   "metadata": {},
   "source": [
    "## Impressions/post vs days"
   ]
  },
  {
   "cell_type": "code",
   "execution_count": 443,
   "metadata": {},
   "outputs": [
    {
     "data": {
      "text/plain": [
       "<matplotlib.axes._subplots.AxesSubplot at 0x284c9344710>"
      ]
     },
     "execution_count": 443,
     "metadata": {},
     "output_type": "execute_result"
    },
    {
     "data": {
      "image/png": "[encoded data removed]",
      "text/plain": [
       "<Figure size 432x288 with 1 Axes>"
      ]
     },
     "metadata": {
      "needs_background": "light"
     },
     "output_type": "display_data"
    }
   ],
   "source": [
    "ts1=pd.Series(dt1.impressions,index=dt.index)\n",
    "ts1.plot()"
   ]
  },
  {
   "cell_type": "markdown",
   "metadata": {},
   "source": [
    "## Clicks vs date"
   ]
  },
  {
   "cell_type": "code",
   "execution_count": 444,
   "metadata": {},
   "outputs": [
    {
     "data": {
      "text/plain": [
       "<matplotlib.axes._subplots.AxesSubplot at 0x284c9395d68>"
      ]
     },
     "execution_count": 444,
     "metadata": {},
     "output_type": "execute_result"
    },
    {
     "data": {
      "image/png": "[encoded data removed]",
      "text/plain": [
       "<Figure size 432x288 with 1 Axes>"
      ]
     },
     "metadata": {
      "needs_background": "light"
     },
     "output_type": "display_data"
    }
   ],
   "source": [
    "ts=pd.Series(dt.clicks,index=dt.index)\n",
    "ts.plot()"
   ]
  },
  {
   "cell_type": "markdown",
   "metadata": {},
   "source": [
    "## Link clicks vs date"
   ]
  },
  {
   "cell_type": "code",
   "execution_count": 445,
   "metadata": {},
   "outputs": [
    {
     "data": {
      "text/plain": [
       "<matplotlib.axes._subplots.AxesSubplot at 0x284c93de668>"
      ]
     },
     "execution_count": 445,
     "metadata": {},
     "output_type": "execute_result"
    },
    {
     "data": {
      "image/png": "[encoded data removed]",
      "text/plain": [
       "<Figure size 432x288 with 1 Axes>"
      ]
     },
     "metadata": {
      "needs_background": "light"
     },
     "output_type": "display_data"
    }
   ],
   "source": [
    "ts=pd.Series(dt.link_clicks,index=dt.index)\n",
    "ts.plot()"
   ]
  },
  {
   "cell_type": "code",
   "execution_count": 446,
   "metadata": {},
   "outputs": [
    {
     "data": {
      "text/plain": [
       "<matplotlib.axes._subplots.AxesSubplot at 0x284c92fdbe0>"
      ]
     },
     "execution_count": 446,
     "metadata": {},
     "output_type": "execute_result"
    },
    {
     "data": {
      "image/png": "[encoded data removed]",
      "text/plain": [
       "<Figure size 432x288 with 1 Axes>"
      ]
     },
     "metadata": {
      "needs_background": "light"
     },
     "output_type": "display_data"
    }
   ],
   "source": [
    "ts=pd.DataFrame(dt[['spends','impressions','clicks','link_clicks']],index=dt.index)\n",
    "ts.plot()"
   ]
  },
  {
   "cell_type": "markdown",
   "metadata": {},
   "source": [
    "## Vs Weekday"
   ]
  },
  {
   "cell_type": "code",
   "execution_count": 447,
   "metadata": {},
   "outputs": [
    {
     "data": {
      "text/html": [
       "<div>\n",
       "<style scoped>\n",
       "    .dataframe tbody tr th:only-of-type {\n",
       "        vertical-align: middle;\n",
       "    }\n",
       "\n",
       "    .dataframe tbody tr th {\n",
       "        vertical-align: top;\n",
       "    }\n",
       "\n",
       "    .dataframe thead th {\n",
       "        text-align: right;\n",
       "    }\n",
       "</style>\n",
       "<table border=\"1\" class=\"dataframe\">\n",
       "  <thead>\n",
       "    <tr style=\"text-align: right;\">\n",
       "      <th></th>\n",
       "      <th>Date</th>\n",
       "      <th>product</th>\n",
       "      <th>phase</th>\n",
       "      <th>campaign_platform</th>\n",
       "      <th>campaign_type</th>\n",
       "      <th>communication_medium</th>\n",
       "      <th>subchannel</th>\n",
       "      <th>audience_type</th>\n",
       "      <th>creative_type</th>\n",
       "      <th>creative_name</th>\n",
       "      <th>device</th>\n",
       "      <th>age</th>\n",
       "      <th>spends</th>\n",
       "      <th>impressions</th>\n",
       "      <th>clicks</th>\n",
       "      <th>link_clicks</th>\n",
       "      <th>Day</th>\n",
       "    </tr>\n",
       "  </thead>\n",
       "  <tbody>\n",
       "    <tr>\n",
       "      <th>2009</th>\n",
       "      <td>2019-12-16</td>\n",
       "      <td>Product 1</td>\n",
       "      <td>Performance</td>\n",
       "      <td>Facebook Ads</td>\n",
       "      <td>Conversions</td>\n",
       "      <td>Creative</td>\n",
       "      <td>Facebook Ads</td>\n",
       "      <td>Audience 2</td>\n",
       "      <td>Carousal</td>\n",
       "      <td>Carousal</td>\n",
       "      <td>device</td>\n",
       "      <td>25-34</td>\n",
       "      <td>70.280000</td>\n",
       "      <td>730</td>\n",
       "      <td>12</td>\n",
       "      <td>9.0</td>\n",
       "      <td>Monday</td>\n",
       "    </tr>\n",
       "    <tr>\n",
       "      <th>2010</th>\n",
       "      <td>2019-12-16</td>\n",
       "      <td>Product 1</td>\n",
       "      <td>Performance</td>\n",
       "      <td>Facebook Ads</td>\n",
       "      <td>Conversions</td>\n",
       "      <td>Creative</td>\n",
       "      <td>Facebook Ads</td>\n",
       "      <td>Audience 2</td>\n",
       "      <td>Carousal</td>\n",
       "      <td>Carousal</td>\n",
       "      <td>device</td>\n",
       "      <td>35-44</td>\n",
       "      <td>7.660000</td>\n",
       "      <td>71</td>\n",
       "      <td>1</td>\n",
       "      <td>1.0</td>\n",
       "      <td>Monday</td>\n",
       "    </tr>\n",
       "    <tr>\n",
       "      <th>2011</th>\n",
       "      <td>2019-12-16</td>\n",
       "      <td>Product 1</td>\n",
       "      <td>Performance</td>\n",
       "      <td>Facebook Ads</td>\n",
       "      <td>Conversions</td>\n",
       "      <td>Creative</td>\n",
       "      <td>Facebook Ads</td>\n",
       "      <td>Audience 2</td>\n",
       "      <td>Carousal</td>\n",
       "      <td>Carousal</td>\n",
       "      <td>device</td>\n",
       "      <td>45-54</td>\n",
       "      <td>3.800000</td>\n",
       "      <td>32</td>\n",
       "      <td>1</td>\n",
       "      <td>NaN</td>\n",
       "      <td>Monday</td>\n",
       "    </tr>\n",
       "    <tr>\n",
       "      <th>2012</th>\n",
       "      <td>2019-12-16</td>\n",
       "      <td>Product 1</td>\n",
       "      <td>Performance</td>\n",
       "      <td>Facebook Ads</td>\n",
       "      <td>Conversions</td>\n",
       "      <td>Creative</td>\n",
       "      <td>Facebook Ads</td>\n",
       "      <td>Audience 2</td>\n",
       "      <td>Carousal</td>\n",
       "      <td>Carousal</td>\n",
       "      <td>device</td>\n",
       "      <td>55-64</td>\n",
       "      <td>0.450000</td>\n",
       "      <td>3</td>\n",
       "      <td>0</td>\n",
       "      <td>NaN</td>\n",
       "      <td>Monday</td>\n",
       "    </tr>\n",
       "    <tr>\n",
       "      <th>2013</th>\n",
       "      <td>2019-12-16</td>\n",
       "      <td>Product 1</td>\n",
       "      <td>Performance</td>\n",
       "      <td>Facebook Ads</td>\n",
       "      <td>Conversions</td>\n",
       "      <td>Creative</td>\n",
       "      <td>Facebook Ads</td>\n",
       "      <td>Audience 2</td>\n",
       "      <td>Image</td>\n",
       "      <td>Click</td>\n",
       "      <td>device</td>\n",
       "      <td>25-34</td>\n",
       "      <td>117.130000</td>\n",
       "      <td>638</td>\n",
       "      <td>36</td>\n",
       "      <td>21.0</td>\n",
       "      <td>Monday</td>\n",
       "    </tr>\n",
       "    <tr>\n",
       "      <th>...</th>\n",
       "      <td>...</td>\n",
       "      <td>...</td>\n",
       "      <td>...</td>\n",
       "      <td>...</td>\n",
       "      <td>...</td>\n",
       "      <td>...</td>\n",
       "      <td>...</td>\n",
       "      <td>...</td>\n",
       "      <td>...</td>\n",
       "      <td>...</td>\n",
       "      <td>...</td>\n",
       "      <td>...</td>\n",
       "      <td>...</td>\n",
       "      <td>...</td>\n",
       "      <td>...</td>\n",
       "      <td>...</td>\n",
       "      <td>...</td>\n",
       "    </tr>\n",
       "    <tr>\n",
       "      <th>13808</th>\n",
       "      <td>2020-03-20</td>\n",
       "      <td>Product 1</td>\n",
       "      <td>Performance</td>\n",
       "      <td>Facebook Ads</td>\n",
       "      <td>Conversions</td>\n",
       "      <td>Creative</td>\n",
       "      <td>Facebook Ads</td>\n",
       "      <td>Audience 1</td>\n",
       "      <td>Image</td>\n",
       "      <td>Click</td>\n",
       "      <td>device</td>\n",
       "      <td>55-64</td>\n",
       "      <td>6.409971</td>\n",
       "      <td>68</td>\n",
       "      <td>1</td>\n",
       "      <td>NaN</td>\n",
       "      <td>Friday</td>\n",
       "    </tr>\n",
       "    <tr>\n",
       "      <th>13809</th>\n",
       "      <td>2020-03-20</td>\n",
       "      <td>Product 1</td>\n",
       "      <td>Performance</td>\n",
       "      <td>Facebook Ads</td>\n",
       "      <td>Conversions</td>\n",
       "      <td>Creative</td>\n",
       "      <td>Facebook Ads</td>\n",
       "      <td>Audience 1</td>\n",
       "      <td>Image</td>\n",
       "      <td>Girl</td>\n",
       "      <td>device</td>\n",
       "      <td>25-34</td>\n",
       "      <td>255.620000</td>\n",
       "      <td>1895</td>\n",
       "      <td>30</td>\n",
       "      <td>11.0</td>\n",
       "      <td>Friday</td>\n",
       "    </tr>\n",
       "    <tr>\n",
       "      <th>13810</th>\n",
       "      <td>2020-03-20</td>\n",
       "      <td>Product 1</td>\n",
       "      <td>Performance</td>\n",
       "      <td>Facebook Ads</td>\n",
       "      <td>Conversions</td>\n",
       "      <td>Creative</td>\n",
       "      <td>Facebook Ads</td>\n",
       "      <td>Audience 1</td>\n",
       "      <td>Image</td>\n",
       "      <td>Girl</td>\n",
       "      <td>device</td>\n",
       "      <td>35-44</td>\n",
       "      <td>89.060000</td>\n",
       "      <td>764</td>\n",
       "      <td>7</td>\n",
       "      <td>1.0</td>\n",
       "      <td>Friday</td>\n",
       "    </tr>\n",
       "    <tr>\n",
       "      <th>13811</th>\n",
       "      <td>2020-03-20</td>\n",
       "      <td>Product 1</td>\n",
       "      <td>Performance</td>\n",
       "      <td>Facebook Ads</td>\n",
       "      <td>Conversions</td>\n",
       "      <td>Creative</td>\n",
       "      <td>Facebook Ads</td>\n",
       "      <td>Audience 1</td>\n",
       "      <td>Image</td>\n",
       "      <td>Girl</td>\n",
       "      <td>device</td>\n",
       "      <td>45-54</td>\n",
       "      <td>24.350000</td>\n",
       "      <td>228</td>\n",
       "      <td>11</td>\n",
       "      <td>3.0</td>\n",
       "      <td>Friday</td>\n",
       "    </tr>\n",
       "    <tr>\n",
       "      <th>13812</th>\n",
       "      <td>2020-03-20</td>\n",
       "      <td>Product 1</td>\n",
       "      <td>Performance</td>\n",
       "      <td>Facebook Ads</td>\n",
       "      <td>Conversions</td>\n",
       "      <td>Creative</td>\n",
       "      <td>Facebook Ads</td>\n",
       "      <td>Audience 1</td>\n",
       "      <td>Image</td>\n",
       "      <td>Girl</td>\n",
       "      <td>device</td>\n",
       "      <td>55-64</td>\n",
       "      <td>1.430000</td>\n",
       "      <td>18</td>\n",
       "      <td>1</td>\n",
       "      <td>NaN</td>\n",
       "      <td>Friday</td>\n",
       "    </tr>\n",
       "  </tbody>\n",
       "</table>\n",
       "<p>1733 rows × 17 columns</p>\n",
       "</div>"
      ],
      "text/plain": [
       "            Date    product        phase campaign_platform campaign_type  \\\n",
       "2009  2019-12-16  Product 1  Performance      Facebook Ads   Conversions   \n",
       "2010  2019-12-16  Product 1  Performance      Facebook Ads   Conversions   \n",
       "2011  2019-12-16  Product 1  Performance      Facebook Ads   Conversions   \n",
       "2012  2019-12-16  Product 1  Performance      Facebook Ads   Conversions   \n",
       "2013  2019-12-16  Product 1  Performance      Facebook Ads   Conversions   \n",
       "...          ...        ...          ...               ...           ...   \n",
       "13808 2020-03-20  Product 1  Performance      Facebook Ads   Conversions   \n",
       "13809 2020-03-20  Product 1  Performance      Facebook Ads   Conversions   \n",
       "13810 2020-03-20  Product 1  Performance      Facebook Ads   Conversions   \n",
       "13811 2020-03-20  Product 1  Performance      Facebook Ads   Conversions   \n",
       "13812 2020-03-20  Product 1  Performance      Facebook Ads   Conversions   \n",
       "\n",
       "      communication_medium    subchannel audience_type creative_type  \\\n",
       "2009              Creative  Facebook Ads    Audience 2      Carousal   \n",
       "2010              Creative  Facebook Ads    Audience 2      Carousal   \n",
       "2011              Creative  Facebook Ads    Audience 2      Carousal   \n",
       "2012              Creative  Facebook Ads    Audience 2      Carousal   \n",
       "2013              Creative  Facebook Ads    Audience 2         Image   \n",
       "...                    ...           ...           ...           ...   \n",
       "13808             Creative  Facebook Ads    Audience 1         Image   \n",
       "13809             Creative  Facebook Ads    Audience 1         Image   \n",
       "13810             Creative  Facebook Ads    Audience 1         Image   \n",
       "13811             Creative  Facebook Ads    Audience 1         Image   \n",
       "13812             Creative  Facebook Ads    Audience 1         Image   \n",
       "\n",
       "      creative_name  device    age      spends  impressions  clicks  \\\n",
       "2009       Carousal  device  25-34   70.280000          730      12   \n",
       "2010       Carousal  device  35-44    7.660000           71       1   \n",
       "2011       Carousal  device  45-54    3.800000           32       1   \n",
       "2012       Carousal  device  55-64    0.450000            3       0   \n",
       "2013          Click  device  25-34  117.130000          638      36   \n",
       "...             ...     ...    ...         ...          ...     ...   \n",
       "13808         Click  device  55-64    6.409971           68       1   \n",
       "13809          Girl  device  25-34  255.620000         1895      30   \n",
       "13810          Girl  device  35-44   89.060000          764       7   \n",
       "13811          Girl  device  45-54   24.350000          228      11   \n",
       "13812          Girl  device  55-64    1.430000           18       1   \n",
       "\n",
       "       link_clicks     Day  \n",
       "2009           9.0  Monday  \n",
       "2010           1.0  Monday  \n",
       "2011           NaN  Monday  \n",
       "2012           NaN  Monday  \n",
       "2013          21.0  Monday  \n",
       "...            ...     ...  \n",
       "13808          NaN  Friday  \n",
       "13809         11.0  Friday  \n",
       "13810          1.0  Friday  \n",
       "13811          3.0  Friday  \n",
       "13812          NaN  Friday  \n",
       "\n",
       "[1733 rows x 17 columns]"
      ]
     },
     "execution_count": 447,
     "metadata": {},
     "output_type": "execute_result"
    }
   ],
   "source": [
    "fb"
   ]
  },
  {
   "cell_type": "code",
   "execution_count": 449,
   "metadata": {},
   "outputs": [
    {
     "data": {
      "text/html": [
       "<div>\n",
       "<style scoped>\n",
       "    .dataframe tbody tr th:only-of-type {\n",
       "        vertical-align: middle;\n",
       "    }\n",
       "\n",
       "    .dataframe tbody tr th {\n",
       "        vertical-align: top;\n",
       "    }\n",
       "\n",
       "    .dataframe thead th {\n",
       "        text-align: right;\n",
       "    }\n",
       "</style>\n",
       "<table border=\"1\" class=\"dataframe\">\n",
       "  <thead>\n",
       "    <tr style=\"text-align: right;\">\n",
       "      <th></th>\n",
       "      <th>spends</th>\n",
       "      <th>impressions</th>\n",
       "      <th>clicks</th>\n",
       "      <th>link_clicks</th>\n",
       "    </tr>\n",
       "    <tr>\n",
       "      <th>Day</th>\n",
       "      <th></th>\n",
       "      <th></th>\n",
       "      <th></th>\n",
       "      <th></th>\n",
       "    </tr>\n",
       "  </thead>\n",
       "  <tbody>\n",
       "    <tr>\n",
       "      <th>Friday</th>\n",
       "      <td>81526.910000</td>\n",
       "      <td>564288</td>\n",
       "      <td>11507</td>\n",
       "      <td>5175.0</td>\n",
       "    </tr>\n",
       "    <tr>\n",
       "      <th>Monday</th>\n",
       "      <td>77142.380000</td>\n",
       "      <td>571564</td>\n",
       "      <td>10114</td>\n",
       "      <td>4613.0</td>\n",
       "    </tr>\n",
       "    <tr>\n",
       "      <th>Saturday</th>\n",
       "      <td>77584.190001</td>\n",
       "      <td>542518</td>\n",
       "      <td>10364</td>\n",
       "      <td>4648.0</td>\n",
       "    </tr>\n",
       "    <tr>\n",
       "      <th>Sunday</th>\n",
       "      <td>78813.399999</td>\n",
       "      <td>563976</td>\n",
       "      <td>11065</td>\n",
       "      <td>5050.0</td>\n",
       "    </tr>\n",
       "    <tr>\n",
       "      <th>Thursday</th>\n",
       "      <td>85758.630000</td>\n",
       "      <td>607339</td>\n",
       "      <td>11493</td>\n",
       "      <td>5203.0</td>\n",
       "    </tr>\n",
       "    <tr>\n",
       "      <th>Tuesday</th>\n",
       "      <td>79219.940000</td>\n",
       "      <td>570375</td>\n",
       "      <td>11009</td>\n",
       "      <td>5094.0</td>\n",
       "    </tr>\n",
       "    <tr>\n",
       "      <th>Wednesday</th>\n",
       "      <td>84070.060000</td>\n",
       "      <td>650552</td>\n",
       "      <td>12017</td>\n",
       "      <td>5568.0</td>\n",
       "    </tr>\n",
       "  </tbody>\n",
       "</table>\n",
       "</div>"
      ],
      "text/plain": [
       "                 spends  impressions  clicks  link_clicks\n",
       "Day                                                      \n",
       "Friday     81526.910000       564288   11507       5175.0\n",
       "Monday     77142.380000       571564   10114       4613.0\n",
       "Saturday   77584.190001       542518   10364       4648.0\n",
       "Sunday     78813.399999       563976   11065       5050.0\n",
       "Thursday   85758.630000       607339   11493       5203.0\n",
       "Tuesday    79219.940000       570375   11009       5094.0\n",
       "Wednesday  84070.060000       650552   12017       5568.0"
      ]
     },
     "execution_count": 449,
     "metadata": {},
     "output_type": "execute_result"
    }
   ],
   "source": [
    "wk=fb1.groupby('Day').agg('sum')\n",
    "wk"
   ]
  },
  {
   "cell_type": "code",
   "execution_count": 450,
   "metadata": {},
   "outputs": [
    {
     "data": {
      "text/html": [
       "<div>\n",
       "<style scoped>\n",
       "    .dataframe tbody tr th:only-of-type {\n",
       "        vertical-align: middle;\n",
       "    }\n",
       "\n",
       "    .dataframe tbody tr th {\n",
       "        vertical-align: top;\n",
       "    }\n",
       "\n",
       "    .dataframe thead th {\n",
       "        text-align: right;\n",
       "    }\n",
       "</style>\n",
       "<table border=\"1\" class=\"dataframe\">\n",
       "  <thead>\n",
       "    <tr style=\"text-align: right;\">\n",
       "      <th></th>\n",
       "      <th>spends</th>\n",
       "      <th>impressions</th>\n",
       "      <th>clicks</th>\n",
       "      <th>link_clicks</th>\n",
       "    </tr>\n",
       "    <tr>\n",
       "      <th>Day</th>\n",
       "      <th></th>\n",
       "      <th></th>\n",
       "      <th></th>\n",
       "      <th></th>\n",
       "    </tr>\n",
       "  </thead>\n",
       "  <tbody>\n",
       "    <tr>\n",
       "      <th>Friday</th>\n",
       "      <td>338.285934</td>\n",
       "      <td>2341.443983</td>\n",
       "      <td>47.746888</td>\n",
       "      <td>30.441176</td>\n",
       "    </tr>\n",
       "    <tr>\n",
       "      <th>Monday</th>\n",
       "      <td>308.569520</td>\n",
       "      <td>2286.256000</td>\n",
       "      <td>40.456000</td>\n",
       "      <td>27.789157</td>\n",
       "    </tr>\n",
       "    <tr>\n",
       "      <th>Saturday</th>\n",
       "      <td>331.556368</td>\n",
       "      <td>2318.452991</td>\n",
       "      <td>44.290598</td>\n",
       "      <td>30.781457</td>\n",
       "    </tr>\n",
       "    <tr>\n",
       "      <th>Sunday</th>\n",
       "      <td>332.545992</td>\n",
       "      <td>2379.645570</td>\n",
       "      <td>46.687764</td>\n",
       "      <td>31.366460</td>\n",
       "    </tr>\n",
       "    <tr>\n",
       "      <th>Thursday</th>\n",
       "      <td>322.400865</td>\n",
       "      <td>2283.229323</td>\n",
       "      <td>43.206767</td>\n",
       "      <td>29.395480</td>\n",
       "    </tr>\n",
       "    <tr>\n",
       "      <th>Tuesday</th>\n",
       "      <td>318.152369</td>\n",
       "      <td>2290.662651</td>\n",
       "      <td>44.212851</td>\n",
       "      <td>28.943182</td>\n",
       "    </tr>\n",
       "    <tr>\n",
       "      <th>Wednesday</th>\n",
       "      <td>328.398672</td>\n",
       "      <td>2541.218750</td>\n",
       "      <td>46.941406</td>\n",
       "      <td>29.935484</td>\n",
       "    </tr>\n",
       "  </tbody>\n",
       "</table>\n",
       "</div>"
      ],
      "text/plain": [
       "               spends  impressions     clicks  link_clicks\n",
       "Day                                                       \n",
       "Friday     338.285934  2341.443983  47.746888    30.441176\n",
       "Monday     308.569520  2286.256000  40.456000    27.789157\n",
       "Saturday   331.556368  2318.452991  44.290598    30.781457\n",
       "Sunday     332.545992  2379.645570  46.687764    31.366460\n",
       "Thursday   322.400865  2283.229323  43.206767    29.395480\n",
       "Tuesday    318.152369  2290.662651  44.212851    28.943182\n",
       "Wednesday  328.398672  2541.218750  46.941406    29.935484"
      ]
     },
     "execution_count": 450,
     "metadata": {},
     "output_type": "execute_result"
    }
   ],
   "source": [
    "wk=fb1.groupby('Day').agg('mean')\n",
    "wk"
   ]
  },
  {
   "cell_type": "markdown",
   "metadata": {},
   "source": [
    "### Insight No significant variation is noted for different days of the week"
   ]
  },
  {
   "cell_type": "markdown",
   "metadata": {},
   "source": [
    "## By audience"
   ]
  },
  {
   "cell_type": "code",
   "execution_count": 325,
   "metadata": {},
   "outputs": [
    {
     "data": {
      "text/html": [
       "<div>\n",
       "<style scoped>\n",
       "    .dataframe tbody tr th:only-of-type {\n",
       "        vertical-align: middle;\n",
       "    }\n",
       "\n",
       "    .dataframe tbody tr th {\n",
       "        vertical-align: top;\n",
       "    }\n",
       "\n",
       "    .dataframe thead th {\n",
       "        text-align: right;\n",
       "    }\n",
       "</style>\n",
       "<table border=\"1\" class=\"dataframe\">\n",
       "  <thead>\n",
       "    <tr style=\"text-align: right;\">\n",
       "      <th></th>\n",
       "      <th></th>\n",
       "      <th>spends</th>\n",
       "      <th>impressions</th>\n",
       "      <th>clicks</th>\n",
       "      <th>link_clicks</th>\n",
       "    </tr>\n",
       "    <tr>\n",
       "      <th>audience_type</th>\n",
       "      <th>Date</th>\n",
       "      <th></th>\n",
       "      <th></th>\n",
       "      <th></th>\n",
       "      <th></th>\n",
       "    </tr>\n",
       "  </thead>\n",
       "  <tbody>\n",
       "    <tr>\n",
       "      <th rowspan=\"5\" valign=\"top\">Audience 1</th>\n",
       "      <th>2020-01-07</th>\n",
       "      <td>1539.27</td>\n",
       "      <td>11051</td>\n",
       "      <td>570</td>\n",
       "      <td>251.0</td>\n",
       "    </tr>\n",
       "    <tr>\n",
       "      <th>2020-01-08</th>\n",
       "      <td>4632.57</td>\n",
       "      <td>41104</td>\n",
       "      <td>1382</td>\n",
       "      <td>604.0</td>\n",
       "    </tr>\n",
       "    <tr>\n",
       "      <th>2020-01-09</th>\n",
       "      <td>4803.40</td>\n",
       "      <td>43390</td>\n",
       "      <td>1278</td>\n",
       "      <td>539.0</td>\n",
       "    </tr>\n",
       "    <tr>\n",
       "      <th>2020-01-10</th>\n",
       "      <td>3147.89</td>\n",
       "      <td>22789</td>\n",
       "      <td>698</td>\n",
       "      <td>333.0</td>\n",
       "    </tr>\n",
       "    <tr>\n",
       "      <th>2020-01-11</th>\n",
       "      <td>414.24</td>\n",
       "      <td>3009</td>\n",
       "      <td>147</td>\n",
       "      <td>74.0</td>\n",
       "    </tr>\n",
       "  </tbody>\n",
       "</table>\n",
       "</div>"
      ],
      "text/plain": [
       "                           spends  impressions  clicks  link_clicks\n",
       "audience_type Date                                                 \n",
       "Audience 1    2020-01-07  1539.27        11051     570        251.0\n",
       "              2020-01-08  4632.57        41104    1382        604.0\n",
       "              2020-01-09  4803.40        43390    1278        539.0\n",
       "              2020-01-10  3147.89        22789     698        333.0\n",
       "              2020-01-11   414.24         3009     147         74.0"
      ]
     },
     "execution_count": 325,
     "metadata": {},
     "output_type": "execute_result"
    }
   ],
   "source": [
    "ta=fb1.groupby(['audience_type','Date']).agg('sum')\n",
    "ta.head()"
   ]
  },
  {
   "cell_type": "markdown",
   "metadata": {},
   "source": [
    "### Audience 1 vs time"
   ]
  },
  {
   "cell_type": "code",
   "execution_count": 337,
   "metadata": {},
   "outputs": [
    {
     "data": {
      "text/plain": [
       "<matplotlib.axes._subplots.AxesSubplot at 0x284cbc4c438>"
      ]
     },
     "execution_count": 337,
     "metadata": {},
     "output_type": "execute_result"
    },
    {
     "data": {
      "image/png": "[encoded data removed]",
      "text/plain": [
       "<Figure size 432x288 with 1 Axes>"
      ]
     },
     "metadata": {
      "needs_background": "light"
     },
     "output_type": "display_data"
    }
   ],
   "source": [
    "a1=fb1[fb1['audience_type']=='Audience 1'].groupby('Date').agg('sum')\n",
    "a1[['spends','impressions']].plot()"
   ]
  },
  {
   "cell_type": "markdown",
   "metadata": {},
   "source": [
    "#### Insights\n",
    "Audience 1 had peak expenditure and engagment with the ads betwenn 15-Feb and 15 March"
   ]
  },
  {
   "cell_type": "markdown",
   "metadata": {},
   "source": [
    "### Audience 2 vs time"
   ]
  },
  {
   "cell_type": "code",
   "execution_count": 338,
   "metadata": {},
   "outputs": [
    {
     "data": {
      "text/plain": [
       "<matplotlib.axes._subplots.AxesSubplot at 0x284cbc0b5f8>"
      ]
     },
     "execution_count": 338,
     "metadata": {},
     "output_type": "execute_result"
    },
    {
     "data": {
      "image/png": "[encoded data removed]",
      "text/plain": [
       "<Figure size 432x288 with 1 Axes>"
      ]
     },
     "metadata": {
      "needs_background": "light"
     },
     "output_type": "display_data"
    }
   ],
   "source": [
    "a2=fb1[fb1['audience_type']=='Audience 2'].groupby('Date').agg('sum')\n",
    "a2[['spends','impressions']].plot()"
   ]
  },
  {
   "cell_type": "markdown",
   "metadata": {},
   "source": [
    "#### Insights\n",
    "Audience 2 had peak expenditure and engagment at the start of the new year and again towards the end of the dataset in mid March"
   ]
  },
  {
   "cell_type": "markdown",
   "metadata": {},
   "source": [
    "### Audience 3 vs time"
   ]
  },
  {
   "cell_type": "code",
   "execution_count": 339,
   "metadata": {},
   "outputs": [
    {
     "data": {
      "text/plain": [
       "<matplotlib.axes._subplots.AxesSubplot at 0x284cbd33e48>"
      ]
     },
     "execution_count": 339,
     "metadata": {},
     "output_type": "execute_result"
    },
    {
     "data": {
      "image/png": "[encoded data removed]",
      "text/plain": [
       "<Figure size 432x288 with 1 Axes>"
      ]
     },
     "metadata": {
      "needs_background": "light"
     },
     "output_type": "display_data"
    }
   ],
   "source": [
    "a3=fb1[fb1['audience_type']=='Audience 3'].groupby('Date').agg('sum')\n",
    "a3[['spends','impressions']].plot()"
   ]
  },
  {
   "cell_type": "markdown",
   "metadata": {},
   "source": [
    "Data for audience 3 in only available from Jan 2 to 20 and peaks on 5th Jan 2020"
   ]
  },
  {
   "cell_type": "code",
   "execution_count": 358,
   "metadata": {},
   "outputs": [
    {
     "data": {
      "text/plain": [
       "<matplotlib.axes._subplots.AxesSubplot at 0x284ddec7b70>"
      ]
     },
     "execution_count": 358,
     "metadata": {},
     "output_type": "execute_result"
    },
    {
     "data": {
      "image/png": "[encoded data removed]",
      "text/plain": [
       "<Figure size 432x288 with 1 Axes>"
      ]
     },
     "metadata": {
      "needs_background": "light"
     },
     "output_type": "display_data"
    }
   ],
   "source": [
    "import seaborn as sns\n",
    "sns.boxplot(y=fb1.spends,x=fb1.creative_name)"
   ]
  },
  {
   "cell_type": "code",
   "execution_count": 349,
   "metadata": {},
   "outputs": [
    {
     "data": {
      "text/plain": [
       "<BarContainer object of 12 artists>"
      ]
     },
     "execution_count": 349,
     "metadata": {},
     "output_type": "execute_result"
    },
    {
     "data": {
      "image/png": "[encoded data removed]",
      "text/plain": [
       "<Figure size 2016x576 with 1 Axes>"
      ]
     },
     "metadata": {
      "needs_background": "light"
     },
     "output_type": "display_data"
    }
   ],
   "source": [
    "ta=fb1.groupby(['audience_type','age']).agg('count')['Date']\n",
    "fig = plt.figure(figsize=(28,8))\n",
    "\n",
    "plt.bar([str(i) for i in ta.index],ta)\n"
   ]
  },
  {
   "cell_type": "markdown",
   "metadata": {},
   "source": [
    "The audience is equal across 4 age groups for Audience 1<br>\n",
    "However for Audience 2 and 3, the age group 55-64 is much lower than other 3 age groups"
   ]
  },
  {
   "cell_type": "markdown",
   "metadata": {},
   "source": [
    "## Creative type"
   ]
  },
  {
   "cell_type": "code",
   "execution_count": 99,
   "metadata": {},
   "outputs": [
    {
     "data": {
      "text/plain": [
       "<BarContainer object of 2 artists>"
      ]
     },
     "execution_count": 99,
     "metadata": {},
     "output_type": "execute_result"
    },
    {
     "data": {
      "image/png": "[encoded data removed]",
      "text/plain": [
       "<Figure size 432x288 with 1 Axes>"
      ]
     },
     "metadata": {
      "needs_background": "light"
     },
     "output_type": "display_data"
    }
   ],
   "source": [
    "x=fb1.creative_type.value_counts()\n",
    "plt.bar(x.index,x.values)"
   ]
  },
  {
   "cell_type": "code",
   "execution_count": 355,
   "metadata": {},
   "outputs": [
    {
     "data": {
      "text/html": [
       "<div>\n",
       "<style scoped>\n",
       "    .dataframe tbody tr th:only-of-type {\n",
       "        vertical-align: middle;\n",
       "    }\n",
       "\n",
       "    .dataframe tbody tr th {\n",
       "        vertical-align: top;\n",
       "    }\n",
       "\n",
       "    .dataframe thead th {\n",
       "        text-align: right;\n",
       "    }\n",
       "</style>\n",
       "<table border=\"1\" class=\"dataframe\">\n",
       "  <thead>\n",
       "    <tr style=\"text-align: right;\">\n",
       "      <th></th>\n",
       "      <th>spends</th>\n",
       "      <th>impressions</th>\n",
       "      <th>clicks</th>\n",
       "      <th>link_clicks</th>\n",
       "    </tr>\n",
       "    <tr>\n",
       "      <th>creative_type</th>\n",
       "      <th></th>\n",
       "      <th></th>\n",
       "      <th></th>\n",
       "      <th></th>\n",
       "    </tr>\n",
       "  </thead>\n",
       "  <tbody>\n",
       "    <tr>\n",
       "      <th>Carousal</th>\n",
       "      <td>84.921609</td>\n",
       "      <td>680.220564</td>\n",
       "      <td>9.152570</td>\n",
       "      <td>10.664804</td>\n",
       "    </tr>\n",
       "    <tr>\n",
       "      <th>Image</th>\n",
       "      <td>453.900690</td>\n",
       "      <td>3239.326549</td>\n",
       "      <td>63.761062</td>\n",
       "      <td>38.037394</td>\n",
       "    </tr>\n",
       "  </tbody>\n",
       "</table>\n",
       "</div>"
      ],
      "text/plain": [
       "                   spends  impressions     clicks  link_clicks\n",
       "creative_type                                                 \n",
       "Carousal        84.921609   680.220564   9.152570    10.664804\n",
       "Image          453.900690  3239.326549  63.761062    38.037394"
      ]
     },
     "execution_count": 355,
     "metadata": {},
     "output_type": "execute_result"
    }
   ],
   "source": [
    "fb1.groupby(['creative_type']).agg('mean')"
   ]
  },
  {
   "cell_type": "markdown",
   "metadata": {},
   "source": [
    "## Insights\n",
    "On a per ad basis, engagement, clicks and spending as response to images is much more than carousels"
   ]
  },
  {
   "cell_type": "code",
   "execution_count": 360,
   "metadata": {},
   "outputs": [
    {
     "data": {
      "text/plain": [
       "<matplotlib.axes._subplots.AxesSubplot at 0x284ddb82550>"
      ]
     },
     "execution_count": 360,
     "metadata": {},
     "output_type": "execute_result"
    },
    {
     "data": {
      "image/png": "[encoded data removed]",
      "text/plain": [
       "<Figure size 432x288 with 1 Axes>"
      ]
     },
     "metadata": {
      "needs_background": "light"
     },
     "output_type": "display_data"
    }
   ],
   "source": [
    "import seaborn as sns\n",
    "sns.boxplot(y=fb1.spends,x=fb1.creative_type)"
   ]
  },
  {
   "cell_type": "markdown",
   "metadata": {},
   "source": [
    "## Creative name"
   ]
  },
  {
   "cell_type": "code",
   "execution_count": 234,
   "metadata": {},
   "outputs": [
    {
     "data": {
      "image/png": "[encoded data removed]",
      "text/plain": [
       "<Figure size 432x288 with 1 Axes>"
      ]
     },
     "metadata": {},
     "output_type": "display_data"
    }
   ],
   "source": [
    "x=fb1.creative_name.value_counts()\n",
    "ax=plt.pie(x.values,labels=x.index)\n",
    "plt.show()"
   ]
  },
  {
   "cell_type": "code",
   "execution_count": 62,
   "metadata": {},
   "outputs": [
    {
     "data": {
      "text/html": [
       "<div>\n",
       "<style scoped>\n",
       "    .dataframe tbody tr th:only-of-type {\n",
       "        vertical-align: middle;\n",
       "    }\n",
       "\n",
       "    .dataframe tbody tr th {\n",
       "        vertical-align: top;\n",
       "    }\n",
       "\n",
       "    .dataframe thead tr th {\n",
       "        text-align: left;\n",
       "    }\n",
       "\n",
       "    .dataframe thead tr:last-of-type th {\n",
       "        text-align: right;\n",
       "    }\n",
       "</style>\n",
       "<table border=\"1\" class=\"dataframe\">\n",
       "  <thead>\n",
       "    <tr>\n",
       "      <th></th>\n",
       "      <th>spends</th>\n",
       "      <th>impressions</th>\n",
       "      <th>clicks</th>\n",
       "      <th>link_clicks</th>\n",
       "    </tr>\n",
       "    <tr>\n",
       "      <th></th>\n",
       "      <th>mean</th>\n",
       "      <th>mean</th>\n",
       "      <th>mean</th>\n",
       "      <th>mean</th>\n",
       "    </tr>\n",
       "    <tr>\n",
       "      <th>creative_name</th>\n",
       "      <th></th>\n",
       "      <th></th>\n",
       "      <th></th>\n",
       "      <th></th>\n",
       "    </tr>\n",
       "  </thead>\n",
       "  <tbody>\n",
       "    <tr>\n",
       "      <th>Carousal</th>\n",
       "      <td>84.921609</td>\n",
       "      <td>680.220564</td>\n",
       "      <td>9.152570</td>\n",
       "      <td>10.664804</td>\n",
       "    </tr>\n",
       "    <tr>\n",
       "      <th>Click</th>\n",
       "      <td>712.014643</td>\n",
       "      <td>4881.226708</td>\n",
       "      <td>95.822981</td>\n",
       "      <td>52.658252</td>\n",
       "    </tr>\n",
       "    <tr>\n",
       "      <th>Girl</th>\n",
       "      <td>111.873148</td>\n",
       "      <td>1063.639918</td>\n",
       "      <td>21.275720</td>\n",
       "      <td>14.057325</td>\n",
       "    </tr>\n",
       "  </tbody>\n",
       "</table>\n",
       "</div>"
      ],
      "text/plain": [
       "                   spends  impressions     clicks link_clicks\n",
       "                     mean         mean       mean        mean\n",
       "creative_name                                                \n",
       "Carousal        84.921609   680.220564   9.152570   10.664804\n",
       "Click          712.014643  4881.226708  95.822981   52.658252\n",
       "Girl           111.873148  1063.639918  21.275720   14.057325"
      ]
     },
     "execution_count": 62,
     "metadata": {},
     "output_type": "execute_result"
    }
   ],
   "source": [
    "fb.groupby(['creative_name']).agg(['mean'])"
   ]
  },
  {
   "cell_type": "code",
   "execution_count": 359,
   "metadata": {},
   "outputs": [
    {
     "data": {
      "text/plain": [
       "<matplotlib.axes._subplots.AxesSubplot at 0x284ddb7b6d8>"
      ]
     },
     "execution_count": 359,
     "metadata": {},
     "output_type": "execute_result"
    },
    {
     "data": {
      "image/png": "[encoded data removed]",
      "text/plain": [
       "<Figure size 432x288 with 1 Axes>"
      ]
     },
     "metadata": {
      "needs_background": "light"
     },
     "output_type": "display_data"
    }
   ],
   "source": [
    "import seaborn as sns\n",
    "sns.boxplot(y=fb1.spends,x=fb1.creative_name)"
   ]
  },
  {
   "cell_type": "markdown",
   "metadata": {},
   "source": [
    "## Age"
   ]
  },
  {
   "cell_type": "code",
   "execution_count": 243,
   "metadata": {},
   "outputs": [
    {
     "data": {
      "text/html": [
       "<div>\n",
       "<style scoped>\n",
       "    .dataframe tbody tr th:only-of-type {\n",
       "        vertical-align: middle;\n",
       "    }\n",
       "\n",
       "    .dataframe tbody tr th {\n",
       "        vertical-align: top;\n",
       "    }\n",
       "\n",
       "    .dataframe thead th {\n",
       "        text-align: right;\n",
       "    }\n",
       "</style>\n",
       "<table border=\"1\" class=\"dataframe\">\n",
       "  <thead>\n",
       "    <tr style=\"text-align: right;\">\n",
       "      <th></th>\n",
       "      <th>Date</th>\n",
       "    </tr>\n",
       "    <tr>\n",
       "      <th>age</th>\n",
       "      <th></th>\n",
       "    </tr>\n",
       "  </thead>\n",
       "  <tbody>\n",
       "    <tr>\n",
       "      <th>25-34</th>\n",
       "      <td>488</td>\n",
       "    </tr>\n",
       "    <tr>\n",
       "      <th>35-44</th>\n",
       "      <td>485</td>\n",
       "    </tr>\n",
       "    <tr>\n",
       "      <th>45-54</th>\n",
       "      <td>477</td>\n",
       "    </tr>\n",
       "    <tr>\n",
       "      <th>55-64</th>\n",
       "      <td>283</td>\n",
       "    </tr>\n",
       "  </tbody>\n",
       "</table>\n",
       "</div>"
      ],
      "text/plain": [
       "       Date\n",
       "age        \n",
       "25-34   488\n",
       "35-44   485\n",
       "45-54   477\n",
       "55-64   283"
      ]
     },
     "execution_count": 243,
     "metadata": {},
     "output_type": "execute_result"
    }
   ],
   "source": [
    "x=fb1[['Date','age']].groupby(['age']).agg('count')\n",
    "x"
   ]
  },
  {
   "cell_type": "markdown",
   "metadata": {},
   "source": [
    "There are no records for 18-24 year olds or 65+ year olds in the facebook campaigns"
   ]
  },
  {
   "cell_type": "code",
   "execution_count": 255,
   "metadata": {},
   "outputs": [
    {
     "data": {
      "text/plain": [
       "<BarContainer object of 4 artists>"
      ]
     },
     "execution_count": 255,
     "metadata": {},
     "output_type": "execute_result"
    },
    {
     "data": {
      "image/png": "[encoded data removed]",
      "text/plain": [
       "<Figure size 432x288 with 1 Axes>"
      ]
     },
     "metadata": {
      "needs_background": "light"
     },
     "output_type": "display_data"
    }
   ],
   "source": [
    "plt.bar(x.index,x['Date'])"
   ]
  },
  {
   "cell_type": "markdown",
   "metadata": {},
   "source": [
    "## Age vs total spend,impressions, clicks etc"
   ]
  },
  {
   "cell_type": "code",
   "execution_count": 456,
   "metadata": {},
   "outputs": [],
   "source": [
    "ag=fb1.groupby(['age']).agg('sum')"
   ]
  },
  {
   "cell_type": "code",
   "execution_count": 457,
   "metadata": {},
   "outputs": [
    {
     "data": {
      "text/html": [
       "<div>\n",
       "<style scoped>\n",
       "    .dataframe tbody tr th:only-of-type {\n",
       "        vertical-align: middle;\n",
       "    }\n",
       "\n",
       "    .dataframe tbody tr th {\n",
       "        vertical-align: top;\n",
       "    }\n",
       "\n",
       "    .dataframe thead th {\n",
       "        text-align: right;\n",
       "    }\n",
       "</style>\n",
       "<table border=\"1\" class=\"dataframe\">\n",
       "  <thead>\n",
       "    <tr style=\"text-align: right;\">\n",
       "      <th></th>\n",
       "      <th>spends</th>\n",
       "      <th>impressions</th>\n",
       "      <th>clicks</th>\n",
       "      <th>link_clicks</th>\n",
       "    </tr>\n",
       "    <tr>\n",
       "      <th>age</th>\n",
       "      <th></th>\n",
       "      <th></th>\n",
       "      <th></th>\n",
       "      <th></th>\n",
       "    </tr>\n",
       "  </thead>\n",
       "  <tbody>\n",
       "    <tr>\n",
       "      <th>25-34</th>\n",
       "      <td>431172.653349</td>\n",
       "      <td>3087201</td>\n",
       "      <td>57782</td>\n",
       "      <td>26461.0</td>\n",
       "    </tr>\n",
       "    <tr>\n",
       "      <th>35-44</th>\n",
       "      <td>108597.139436</td>\n",
       "      <td>798342</td>\n",
       "      <td>15723</td>\n",
       "      <td>7016.0</td>\n",
       "    </tr>\n",
       "    <tr>\n",
       "      <th>45-54</th>\n",
       "      <td>23467.716581</td>\n",
       "      <td>178109</td>\n",
       "      <td>3932</td>\n",
       "      <td>1812.0</td>\n",
       "    </tr>\n",
       "    <tr>\n",
       "      <th>55-64</th>\n",
       "      <td>878.000634</td>\n",
       "      <td>6960</td>\n",
       "      <td>132</td>\n",
       "      <td>62.0</td>\n",
       "    </tr>\n",
       "  </tbody>\n",
       "</table>\n",
       "</div>"
      ],
      "text/plain": [
       "              spends  impressions  clicks  link_clicks\n",
       "age                                                   \n",
       "25-34  431172.653349      3087201   57782      26461.0\n",
       "35-44  108597.139436       798342   15723       7016.0\n",
       "45-54   23467.716581       178109    3932       1812.0\n",
       "55-64     878.000634         6960     132         62.0"
      ]
     },
     "execution_count": 457,
     "metadata": {},
     "output_type": "execute_result"
    }
   ],
   "source": [
    "ag"
   ]
  },
  {
   "cell_type": "markdown",
   "metadata": {},
   "source": [
    "#### By far, the group to respond , spend and engage the most with the ad campgain is the 25-34 age group"
   ]
  },
  {
   "cell_type": "markdown",
   "metadata": {},
   "source": [
    "The 25-34 year old group has 4 times,40 times and 500 times as much interaction and spending as the 35-44, 45-54 and 55-64 age groups"
   ]
  },
  {
   "cell_type": "code",
   "execution_count": 458,
   "metadata": {},
   "outputs": [
    {
     "data": {
      "text/plain": [
       "<matplotlib.axes._subplots.AxesSubplot at 0x284ca3b80f0>"
      ]
     },
     "execution_count": 458,
     "metadata": {},
     "output_type": "execute_result"
    },
    {
     "data": {
      "image/png": "[encoded data removed]",
      "text/plain": [
       "<Figure size 432x288 with 1 Axes>"
      ]
     },
     "metadata": {
      "needs_background": "light"
     },
     "output_type": "display_data"
    }
   ],
   "source": [
    "import seaborn as sns\n",
    "sns.boxplot(y=fb1.link_clicks,x=fb1.age)"
   ]
  },
  {
   "cell_type": "markdown",
   "metadata": {},
   "source": [
    "### Age vs creative and communication type"
   ]
  },
  {
   "cell_type": "code",
   "execution_count": 512,
   "metadata": {},
   "outputs": [
    {
     "data": {
      "text/html": [
       "<div>\n",
       "<style scoped>\n",
       "    .dataframe tbody tr th:only-of-type {\n",
       "        vertical-align: middle;\n",
       "    }\n",
       "\n",
       "    .dataframe tbody tr th {\n",
       "        vertical-align: top;\n",
       "    }\n",
       "\n",
       "    .dataframe thead th {\n",
       "        text-align: right;\n",
       "    }\n",
       "</style>\n",
       "<table border=\"1\" class=\"dataframe\">\n",
       "  <thead>\n",
       "    <tr style=\"text-align: right;\">\n",
       "      <th></th>\n",
       "      <th>Date</th>\n",
       "      <th>audience_type</th>\n",
       "      <th>creative_name</th>\n",
       "      <th>age</th>\n",
       "      <th>spends</th>\n",
       "      <th>impressions</th>\n",
       "      <th>clicks</th>\n",
       "      <th>link_clicks</th>\n",
       "      <th>Day</th>\n",
       "    </tr>\n",
       "    <tr>\n",
       "      <th>creative_type</th>\n",
       "      <th></th>\n",
       "      <th></th>\n",
       "      <th></th>\n",
       "      <th></th>\n",
       "      <th></th>\n",
       "      <th></th>\n",
       "      <th></th>\n",
       "      <th></th>\n",
       "      <th></th>\n",
       "    </tr>\n",
       "  </thead>\n",
       "  <tbody>\n",
       "    <tr>\n",
       "      <th>Carousal</th>\n",
       "      <td>603</td>\n",
       "      <td>603</td>\n",
       "      <td>603</td>\n",
       "      <td>603</td>\n",
       "      <td>603</td>\n",
       "      <td>603</td>\n",
       "      <td>603</td>\n",
       "      <td>358</td>\n",
       "      <td>603</td>\n",
       "    </tr>\n",
       "    <tr>\n",
       "      <th>Image</th>\n",
       "      <td>1130</td>\n",
       "      <td>1130</td>\n",
       "      <td>1130</td>\n",
       "      <td>1130</td>\n",
       "      <td>1130</td>\n",
       "      <td>1130</td>\n",
       "      <td>1130</td>\n",
       "      <td>829</td>\n",
       "      <td>1130</td>\n",
       "    </tr>\n",
       "  </tbody>\n",
       "</table>\n",
       "</div>"
      ],
      "text/plain": [
       "               Date  audience_type  creative_name   age  spends  impressions  \\\n",
       "creative_type                                                                  \n",
       "Carousal        603            603            603   603     603          603   \n",
       "Image          1130           1130           1130  1130    1130         1130   \n",
       "\n",
       "               clicks  link_clicks   Day  \n",
       "creative_type                             \n",
       "Carousal          603          358   603  \n",
       "Image            1130          829  1130  "
      ]
     },
     "execution_count": 512,
     "metadata": {},
     "output_type": "execute_result"
    }
   ],
   "source": [
    "fb1.groupby(['creative_type']).agg('count')"
   ]
  },
  {
   "cell_type": "code",
   "execution_count": 513,
   "metadata": {
    "scrolled": true
   },
   "outputs": [],
   "source": [
    "cr=fb1.groupby(['age','creative_type']).agg('mean')"
   ]
  },
  {
   "cell_type": "code",
   "execution_count": 514,
   "metadata": {},
   "outputs": [
    {
     "data": {
      "text/html": [
       "<div>\n",
       "<style scoped>\n",
       "    .dataframe tbody tr th:only-of-type {\n",
       "        vertical-align: middle;\n",
       "    }\n",
       "\n",
       "    .dataframe tbody tr th {\n",
       "        vertical-align: top;\n",
       "    }\n",
       "\n",
       "    .dataframe thead th {\n",
       "        text-align: right;\n",
       "    }\n",
       "</style>\n",
       "<table border=\"1\" class=\"dataframe\">\n",
       "  <thead>\n",
       "    <tr style=\"text-align: right;\">\n",
       "      <th></th>\n",
       "      <th></th>\n",
       "      <th>spends</th>\n",
       "    </tr>\n",
       "    <tr>\n",
       "      <th>age</th>\n",
       "      <th>creative_type</th>\n",
       "      <th></th>\n",
       "    </tr>\n",
       "  </thead>\n",
       "  <tbody>\n",
       "    <tr>\n",
       "      <th rowspan=\"2\" valign=\"top\">25-34</th>\n",
       "      <th>Carousal</th>\n",
       "      <td>252.013116</td>\n",
       "    </tr>\n",
       "    <tr>\n",
       "      <th>Image</th>\n",
       "      <td>1242.978559</td>\n",
       "    </tr>\n",
       "    <tr>\n",
       "      <th rowspan=\"2\" valign=\"top\">35-44</th>\n",
       "      <th>Carousal</th>\n",
       "      <td>30.769216</td>\n",
       "    </tr>\n",
       "    <tr>\n",
       "      <th>Image</th>\n",
       "      <td>331.972013</td>\n",
       "    </tr>\n",
       "    <tr>\n",
       "      <th rowspan=\"2\" valign=\"top\">45-54</th>\n",
       "      <th>Carousal</th>\n",
       "      <td>7.250688</td>\n",
       "    </tr>\n",
       "    <tr>\n",
       "      <th>Image</th>\n",
       "      <td>71.796296</td>\n",
       "    </tr>\n",
       "    <tr>\n",
       "      <th rowspan=\"2\" valign=\"top\">55-64</th>\n",
       "      <th>Carousal</th>\n",
       "      <td>0.431765</td>\n",
       "    </tr>\n",
       "    <tr>\n",
       "      <th>Image</th>\n",
       "      <td>4.248993</td>\n",
       "    </tr>\n",
       "  </tbody>\n",
       "</table>\n",
       "</div>"
      ],
      "text/plain": [
       "                          spends\n",
       "age   creative_type             \n",
       "25-34 Carousal        252.013116\n",
       "      Image          1242.978559\n",
       "35-44 Carousal         30.769216\n",
       "      Image           331.972013\n",
       "45-54 Carousal          7.250688\n",
       "      Image            71.796296\n",
       "55-64 Carousal          0.431765\n",
       "      Image             4.248993"
      ]
     },
     "execution_count": 514,
     "metadata": {},
     "output_type": "execute_result"
    }
   ],
   "source": [
    "cr=cr[['spends']]\n",
    "cr"
   ]
  },
  {
   "cell_type": "code",
   "execution_count": 515,
   "metadata": {},
   "outputs": [
    {
     "data": {
      "text/html": [
       "<div>\n",
       "<style scoped>\n",
       "    .dataframe tbody tr th:only-of-type {\n",
       "        vertical-align: middle;\n",
       "    }\n",
       "\n",
       "    .dataframe tbody tr th {\n",
       "        vertical-align: top;\n",
       "    }\n",
       "\n",
       "    .dataframe thead tr th {\n",
       "        text-align: left;\n",
       "    }\n",
       "\n",
       "    .dataframe thead tr:last-of-type th {\n",
       "        text-align: right;\n",
       "    }\n",
       "</style>\n",
       "<table border=\"1\" class=\"dataframe\">\n",
       "  <thead>\n",
       "    <tr>\n",
       "      <th></th>\n",
       "      <th colspan=\"2\" halign=\"left\">spends</th>\n",
       "    </tr>\n",
       "    <tr>\n",
       "      <th>creative_type</th>\n",
       "      <th>Carousal</th>\n",
       "      <th>Image</th>\n",
       "    </tr>\n",
       "    <tr>\n",
       "      <th>age</th>\n",
       "      <th></th>\n",
       "      <th></th>\n",
       "    </tr>\n",
       "  </thead>\n",
       "  <tbody>\n",
       "    <tr>\n",
       "      <th>25-34</th>\n",
       "      <td>252.013116</td>\n",
       "      <td>1242.978559</td>\n",
       "    </tr>\n",
       "    <tr>\n",
       "      <th>35-44</th>\n",
       "      <td>30.769216</td>\n",
       "      <td>331.972013</td>\n",
       "    </tr>\n",
       "    <tr>\n",
       "      <th>45-54</th>\n",
       "      <td>7.250688</td>\n",
       "      <td>71.796296</td>\n",
       "    </tr>\n",
       "    <tr>\n",
       "      <th>55-64</th>\n",
       "      <td>0.431765</td>\n",
       "      <td>4.248993</td>\n",
       "    </tr>\n",
       "  </tbody>\n",
       "</table>\n",
       "</div>"
      ],
      "text/plain": [
       "                   spends             \n",
       "creative_type    Carousal        Image\n",
       "age                                   \n",
       "25-34          252.013116  1242.978559\n",
       "35-44           30.769216   331.972013\n",
       "45-54            7.250688    71.796296\n",
       "55-64            0.431765     4.248993"
      ]
     },
     "execution_count": 515,
     "metadata": {},
     "output_type": "execute_result"
    }
   ],
   "source": [
    "cr=cr.unstack()\n",
    "cr"
   ]
  },
  {
   "cell_type": "code",
   "execution_count": 516,
   "metadata": {},
   "outputs": [
    {
     "data": {
      "text/plain": [
       "array([<matplotlib.axes._subplots.AxesSubplot object at 0x00000284CECC9860>,\n",
       "       <matplotlib.axes._subplots.AxesSubplot object at 0x00000284CEFA2550>,\n",
       "       <matplotlib.axes._subplots.AxesSubplot object at 0x00000284CEFD27B8>,\n",
       "       <matplotlib.axes._subplots.AxesSubplot object at 0x00000284CF007908>],\n",
       "      dtype=object)"
      ]
     },
     "execution_count": 516,
     "metadata": {},
     "output_type": "execute_result"
    },
    {
     "data": {
      "image/png": "[encoded data removed]",
      "text/plain": [
       "<Figure size 2160x1440 with 4 Axes>"
      ]
     },
     "metadata": {},
     "output_type": "display_data"
    }
   ],
   "source": [
    "cr.T.plot.pie(subplots=True, figsize=(30, 20))"
   ]
  },
  {
   "cell_type": "markdown",
   "metadata": {},
   "source": [
    "#### Insights :\n",
    "While all age groups respond to images more than carousels, the gap widens even further as the age increases. <br>\n",
    "People in the age group of 25-34 are 5 times as likely to spend on images than carousals, whereas those in the other three categories spend 10 times more on image ads than carousals"
   ]
  },
  {
   "cell_type": "markdown",
   "metadata": {},
   "source": [
    "### Age vs creative name"
   ]
  },
  {
   "cell_type": "code",
   "execution_count": 523,
   "metadata": {},
   "outputs": [],
   "source": [
    "cr=fb1.groupby(['age','creative_name']).agg('mean')"
   ]
  },
  {
   "cell_type": "code",
   "execution_count": 524,
   "metadata": {},
   "outputs": [
    {
     "data": {
      "text/html": [
       "<div>\n",
       "<style scoped>\n",
       "    .dataframe tbody tr th:only-of-type {\n",
       "        vertical-align: middle;\n",
       "    }\n",
       "\n",
       "    .dataframe tbody tr th {\n",
       "        vertical-align: top;\n",
       "    }\n",
       "\n",
       "    .dataframe thead tr th {\n",
       "        text-align: left;\n",
       "    }\n",
       "\n",
       "    .dataframe thead tr:last-of-type th {\n",
       "        text-align: right;\n",
       "    }\n",
       "</style>\n",
       "<table border=\"1\" class=\"dataframe\">\n",
       "  <thead>\n",
       "    <tr>\n",
       "      <th></th>\n",
       "      <th colspan=\"3\" halign=\"left\">spends</th>\n",
       "    </tr>\n",
       "    <tr>\n",
       "      <th>creative_name</th>\n",
       "      <th>Carousal</th>\n",
       "      <th>Click</th>\n",
       "      <th>Girl</th>\n",
       "    </tr>\n",
       "    <tr>\n",
       "      <th>age</th>\n",
       "      <th></th>\n",
       "      <th></th>\n",
       "      <th></th>\n",
       "    </tr>\n",
       "  </thead>\n",
       "  <tbody>\n",
       "    <tr>\n",
       "      <th>25-34</th>\n",
       "      <td>252.013116</td>\n",
       "      <td>1975.416530</td>\n",
       "      <td>288.096464</td>\n",
       "    </tr>\n",
       "    <tr>\n",
       "      <th>35-44</th>\n",
       "      <td>30.769216</td>\n",
       "      <td>517.999780</td>\n",
       "      <td>89.446923</td>\n",
       "    </tr>\n",
       "    <tr>\n",
       "      <th>45-54</th>\n",
       "      <td>7.250688</td>\n",
       "      <td>107.850223</td>\n",
       "      <td>24.441884</td>\n",
       "    </tr>\n",
       "    <tr>\n",
       "      <th>55-64</th>\n",
       "      <td>0.431765</td>\n",
       "      <td>6.159657</td>\n",
       "      <td>1.546102</td>\n",
       "    </tr>\n",
       "  </tbody>\n",
       "</table>\n",
       "</div>"
      ],
      "text/plain": [
       "                   spends                         \n",
       "creative_name    Carousal        Click        Girl\n",
       "age                                               \n",
       "25-34          252.013116  1975.416530  288.096464\n",
       "35-44           30.769216   517.999780   89.446923\n",
       "45-54            7.250688   107.850223   24.441884\n",
       "55-64            0.431765     6.159657    1.546102"
      ]
     },
     "execution_count": 524,
     "metadata": {},
     "output_type": "execute_result"
    }
   ],
   "source": [
    "cr=cr[['spends']]\n",
    "cr=cr.unstack()\n",
    "cr"
   ]
  },
  {
   "cell_type": "code",
   "execution_count": 525,
   "metadata": {},
   "outputs": [
    {
     "data": {
      "text/plain": [
       "array([<matplotlib.axes._subplots.AxesSubplot object at 0x00000284CE5977B8>,\n",
       "       <matplotlib.axes._subplots.AxesSubplot object at 0x00000284CF0DC5C0>,\n",
       "       <matplotlib.axes._subplots.AxesSubplot object at 0x00000284CF10B7B8>,\n",
       "       <matplotlib.axes._subplots.AxesSubplot object at 0x00000284CF13C9E8>],\n",
       "      dtype=object)"
      ]
     },
     "execution_count": 525,
     "metadata": {},
     "output_type": "execute_result"
    },
    {
     "data": {
      "image/png": "[encoded data removed]",
      "text/plain": [
       "<Figure size 2160x1440 with 4 Axes>"
      ]
     },
     "metadata": {},
     "output_type": "display_data"
    }
   ],
   "source": [
    "cr.T.plot.pie(subplots=True, figsize=(30, 20))"
   ]
  },
  {
   "cell_type": "markdown",
   "metadata": {},
   "source": [
    "#### Insights For creative-names :\n",
    "For all age groups , in the following order : <br>\n",
    "Images <br>\n",
    "Girl <br>\n",
    "Carousel <br>\n",
    "With increase in age, the users respond less to carousel and more to girl"
   ]
  },
  {
   "cell_type": "markdown",
   "metadata": {},
   "source": [
    "### Spends per impression, click and link click"
   ]
  },
  {
   "cell_type": "code",
   "execution_count": 530,
   "metadata": {},
   "outputs": [],
   "source": [
    "ag=fb1.groupby('age').agg('sum')"
   ]
  },
  {
   "cell_type": "code",
   "execution_count": 531,
   "metadata": {},
   "outputs": [
    {
     "data": {
      "text/html": [
       "<div>\n",
       "<style scoped>\n",
       "    .dataframe tbody tr th:only-of-type {\n",
       "        vertical-align: middle;\n",
       "    }\n",
       "\n",
       "    .dataframe tbody tr th {\n",
       "        vertical-align: top;\n",
       "    }\n",
       "\n",
       "    .dataframe thead th {\n",
       "        text-align: right;\n",
       "    }\n",
       "</style>\n",
       "<table border=\"1\" class=\"dataframe\">\n",
       "  <thead>\n",
       "    <tr style=\"text-align: right;\">\n",
       "      <th></th>\n",
       "      <th>spends</th>\n",
       "      <th>impressions</th>\n",
       "      <th>clicks</th>\n",
       "      <th>link_clicks</th>\n",
       "    </tr>\n",
       "    <tr>\n",
       "      <th>age</th>\n",
       "      <th></th>\n",
       "      <th></th>\n",
       "      <th></th>\n",
       "      <th></th>\n",
       "    </tr>\n",
       "  </thead>\n",
       "  <tbody>\n",
       "    <tr>\n",
       "      <th>25-34</th>\n",
       "      <td>431172.653349</td>\n",
       "      <td>3087201</td>\n",
       "      <td>57782</td>\n",
       "      <td>26461.0</td>\n",
       "    </tr>\n",
       "    <tr>\n",
       "      <th>35-44</th>\n",
       "      <td>108597.139436</td>\n",
       "      <td>798342</td>\n",
       "      <td>15723</td>\n",
       "      <td>7016.0</td>\n",
       "    </tr>\n",
       "    <tr>\n",
       "      <th>45-54</th>\n",
       "      <td>23467.716581</td>\n",
       "      <td>178109</td>\n",
       "      <td>3932</td>\n",
       "      <td>1812.0</td>\n",
       "    </tr>\n",
       "    <tr>\n",
       "      <th>55-64</th>\n",
       "      <td>878.000634</td>\n",
       "      <td>6960</td>\n",
       "      <td>132</td>\n",
       "      <td>62.0</td>\n",
       "    </tr>\n",
       "  </tbody>\n",
       "</table>\n",
       "</div>"
      ],
      "text/plain": [
       "              spends  impressions  clicks  link_clicks\n",
       "age                                                   \n",
       "25-34  431172.653349      3087201   57782      26461.0\n",
       "35-44  108597.139436       798342   15723       7016.0\n",
       "45-54   23467.716581       178109    3932       1812.0\n",
       "55-64     878.000634         6960     132         62.0"
      ]
     },
     "execution_count": 531,
     "metadata": {},
     "output_type": "execute_result"
    }
   ],
   "source": [
    "ag"
   ]
  },
  {
   "cell_type": "code",
   "execution_count": 532,
   "metadata": {},
   "outputs": [],
   "source": [
    "ag['s-i']=ag.spends/ag.impressions\n",
    "ag['s-l']=ag.spends/ag.link_clicks\n",
    "ag['s-c']=ag.spends/ag.clicks\n",
    "ag['l-i']=ag.link_clicks/ag.impressions*100\n",
    "ag['c-i']=ag.clicks/ag.impressions*100"
   ]
  },
  {
   "cell_type": "code",
   "execution_count": 533,
   "metadata": {},
   "outputs": [
    {
     "data": {
      "text/html": [
       "<div>\n",
       "<style scoped>\n",
       "    .dataframe tbody tr th:only-of-type {\n",
       "        vertical-align: middle;\n",
       "    }\n",
       "\n",
       "    .dataframe tbody tr th {\n",
       "        vertical-align: top;\n",
       "    }\n",
       "\n",
       "    .dataframe thead th {\n",
       "        text-align: right;\n",
       "    }\n",
       "</style>\n",
       "<table border=\"1\" class=\"dataframe\">\n",
       "  <thead>\n",
       "    <tr style=\"text-align: right;\">\n",
       "      <th></th>\n",
       "      <th>spends</th>\n",
       "      <th>impressions</th>\n",
       "      <th>clicks</th>\n",
       "      <th>link_clicks</th>\n",
       "      <th>s-i</th>\n",
       "      <th>s-l</th>\n",
       "      <th>s-c</th>\n",
       "      <th>l-i</th>\n",
       "      <th>c-i</th>\n",
       "    </tr>\n",
       "    <tr>\n",
       "      <th>age</th>\n",
       "      <th></th>\n",
       "      <th></th>\n",
       "      <th></th>\n",
       "      <th></th>\n",
       "      <th></th>\n",
       "      <th></th>\n",
       "      <th></th>\n",
       "      <th></th>\n",
       "      <th></th>\n",
       "    </tr>\n",
       "  </thead>\n",
       "  <tbody>\n",
       "    <tr>\n",
       "      <th>25-34</th>\n",
       "      <td>431172.653349</td>\n",
       "      <td>3087201</td>\n",
       "      <td>57782</td>\n",
       "      <td>26461.0</td>\n",
       "      <td>0.139665</td>\n",
       "      <td>16.294647</td>\n",
       "      <td>7.462058</td>\n",
       "      <td>0.857119</td>\n",
       "      <td>1.871663</td>\n",
       "    </tr>\n",
       "    <tr>\n",
       "      <th>35-44</th>\n",
       "      <td>108597.139436</td>\n",
       "      <td>798342</td>\n",
       "      <td>15723</td>\n",
       "      <td>7016.0</td>\n",
       "      <td>0.136028</td>\n",
       "      <td>15.478498</td>\n",
       "      <td>6.906897</td>\n",
       "      <td>0.878821</td>\n",
       "      <td>1.969457</td>\n",
       "    </tr>\n",
       "    <tr>\n",
       "      <th>45-54</th>\n",
       "      <td>23467.716581</td>\n",
       "      <td>178109</td>\n",
       "      <td>3932</td>\n",
       "      <td>1812.0</td>\n",
       "      <td>0.131760</td>\n",
       "      <td>12.951278</td>\n",
       "      <td>5.968392</td>\n",
       "      <td>1.017355</td>\n",
       "      <td>2.207637</td>\n",
       "    </tr>\n",
       "    <tr>\n",
       "      <th>55-64</th>\n",
       "      <td>878.000634</td>\n",
       "      <td>6960</td>\n",
       "      <td>132</td>\n",
       "      <td>62.0</td>\n",
       "      <td>0.126150</td>\n",
       "      <td>14.161301</td>\n",
       "      <td>6.651520</td>\n",
       "      <td>0.890805</td>\n",
       "      <td>1.896552</td>\n",
       "    </tr>\n",
       "  </tbody>\n",
       "</table>\n",
       "</div>"
      ],
      "text/plain": [
       "              spends  impressions  clicks  link_clicks       s-i        s-l  \\\n",
       "age                                                                           \n",
       "25-34  431172.653349      3087201   57782      26461.0  0.139665  16.294647   \n",
       "35-44  108597.139436       798342   15723       7016.0  0.136028  15.478498   \n",
       "45-54   23467.716581       178109    3932       1812.0  0.131760  12.951278   \n",
       "55-64     878.000634         6960     132         62.0  0.126150  14.161301   \n",
       "\n",
       "            s-c       l-i       c-i  \n",
       "age                                  \n",
       "25-34  7.462058  0.857119  1.871663  \n",
       "35-44  6.906897  0.878821  1.969457  \n",
       "45-54  5.968392  1.017355  2.207637  \n",
       "55-64  6.651520  0.890805  1.896552  "
      ]
     },
     "execution_count": 533,
     "metadata": {},
     "output_type": "execute_result"
    }
   ],
   "source": [
    "ag"
   ]
  },
  {
   "cell_type": "markdown",
   "metadata": {},
   "source": [
    "#### Insights :\n",
    "The PER VIEW/IMPRESSION spends, clicks and link clicks don't differ too much across all categories. <br>\n",
    "The tendency to spend decreases with age. 25-34 years old have the highest spends/impression (0.1396) and 55-64 year olds have the lowest at 0.1261 <br>\n",
    "However, spends/link-click and spends/click are lowest among 44-54 year olds, while remaining highest among 25-34 year olds. <br>\n",
    "Interestingly, older people are likelier to click on links or posts after viewing compared to younger people, with the highest clicks/impression and links_click/impression in the 45-54 category"
   ]
  },
  {
   "cell_type": "markdown",
   "metadata": {},
   "source": [
    "## ML Model for prediction of spends/earnings from a post"
   ]
  },
  {
   "cell_type": "code",
   "execution_count": 545,
   "metadata": {},
   "outputs": [
    {
     "data": {
      "text/html": [
       "<div>\n",
       "<style scoped>\n",
       "    .dataframe tbody tr th:only-of-type {\n",
       "        vertical-align: middle;\n",
       "    }\n",
       "\n",
       "    .dataframe tbody tr th {\n",
       "        vertical-align: top;\n",
       "    }\n",
       "\n",
       "    .dataframe thead th {\n",
       "        text-align: right;\n",
       "    }\n",
       "</style>\n",
       "<table border=\"1\" class=\"dataframe\">\n",
       "  <thead>\n",
       "    <tr style=\"text-align: right;\">\n",
       "      <th></th>\n",
       "      <th>Day</th>\n",
       "      <th>audience_type</th>\n",
       "      <th>creative_type</th>\n",
       "      <th>creative_name</th>\n",
       "      <th>age</th>\n",
       "      <th>spends</th>\n",
       "      <th>impressions</th>\n",
       "      <th>clicks</th>\n",
       "    </tr>\n",
       "  </thead>\n",
       "  <tbody>\n",
       "    <tr>\n",
       "      <th>2009</th>\n",
       "      <td>Monday</td>\n",
       "      <td>Audience 2</td>\n",
       "      <td>Carousal</td>\n",
       "      <td>Carousal</td>\n",
       "      <td>25-34</td>\n",
       "      <td>70.280000</td>\n",
       "      <td>730</td>\n",
       "      <td>12</td>\n",
       "    </tr>\n",
       "    <tr>\n",
       "      <th>2010</th>\n",
       "      <td>Monday</td>\n",
       "      <td>Audience 2</td>\n",
       "      <td>Carousal</td>\n",
       "      <td>Carousal</td>\n",
       "      <td>35-44</td>\n",
       "      <td>7.660000</td>\n",
       "      <td>71</td>\n",
       "      <td>1</td>\n",
       "    </tr>\n",
       "    <tr>\n",
       "      <th>2011</th>\n",
       "      <td>Monday</td>\n",
       "      <td>Audience 2</td>\n",
       "      <td>Carousal</td>\n",
       "      <td>Carousal</td>\n",
       "      <td>45-54</td>\n",
       "      <td>3.800000</td>\n",
       "      <td>32</td>\n",
       "      <td>1</td>\n",
       "    </tr>\n",
       "    <tr>\n",
       "      <th>2012</th>\n",
       "      <td>Monday</td>\n",
       "      <td>Audience 2</td>\n",
       "      <td>Carousal</td>\n",
       "      <td>Carousal</td>\n",
       "      <td>55-64</td>\n",
       "      <td>0.450000</td>\n",
       "      <td>3</td>\n",
       "      <td>0</td>\n",
       "    </tr>\n",
       "    <tr>\n",
       "      <th>2013</th>\n",
       "      <td>Monday</td>\n",
       "      <td>Audience 2</td>\n",
       "      <td>Image</td>\n",
       "      <td>Click</td>\n",
       "      <td>25-34</td>\n",
       "      <td>117.130000</td>\n",
       "      <td>638</td>\n",
       "      <td>36</td>\n",
       "    </tr>\n",
       "    <tr>\n",
       "      <th>...</th>\n",
       "      <td>...</td>\n",
       "      <td>...</td>\n",
       "      <td>...</td>\n",
       "      <td>...</td>\n",
       "      <td>...</td>\n",
       "      <td>...</td>\n",
       "      <td>...</td>\n",
       "      <td>...</td>\n",
       "    </tr>\n",
       "    <tr>\n",
       "      <th>13808</th>\n",
       "      <td>Friday</td>\n",
       "      <td>Audience 1</td>\n",
       "      <td>Image</td>\n",
       "      <td>Click</td>\n",
       "      <td>55-64</td>\n",
       "      <td>6.409971</td>\n",
       "      <td>68</td>\n",
       "      <td>1</td>\n",
       "    </tr>\n",
       "    <tr>\n",
       "      <th>13809</th>\n",
       "      <td>Friday</td>\n",
       "      <td>Audience 1</td>\n",
       "      <td>Image</td>\n",
       "      <td>Girl</td>\n",
       "      <td>25-34</td>\n",
       "      <td>255.620000</td>\n",
       "      <td>1895</td>\n",
       "      <td>30</td>\n",
       "    </tr>\n",
       "    <tr>\n",
       "      <th>13810</th>\n",
       "      <td>Friday</td>\n",
       "      <td>Audience 1</td>\n",
       "      <td>Image</td>\n",
       "      <td>Girl</td>\n",
       "      <td>35-44</td>\n",
       "      <td>89.060000</td>\n",
       "      <td>764</td>\n",
       "      <td>7</td>\n",
       "    </tr>\n",
       "    <tr>\n",
       "      <th>13811</th>\n",
       "      <td>Friday</td>\n",
       "      <td>Audience 1</td>\n",
       "      <td>Image</td>\n",
       "      <td>Girl</td>\n",
       "      <td>45-54</td>\n",
       "      <td>24.350000</td>\n",
       "      <td>228</td>\n",
       "      <td>11</td>\n",
       "    </tr>\n",
       "    <tr>\n",
       "      <th>13812</th>\n",
       "      <td>Friday</td>\n",
       "      <td>Audience 1</td>\n",
       "      <td>Image</td>\n",
       "      <td>Girl</td>\n",
       "      <td>55-64</td>\n",
       "      <td>1.430000</td>\n",
       "      <td>18</td>\n",
       "      <td>1</td>\n",
       "    </tr>\n",
       "  </tbody>\n",
       "</table>\n",
       "<p>1733 rows × 8 columns</p>\n",
       "</div>"
      ],
      "text/plain": [
       "          Day audience_type creative_type creative_name    age      spends  \\\n",
       "2009   Monday    Audience 2      Carousal      Carousal  25-34   70.280000   \n",
       "2010   Monday    Audience 2      Carousal      Carousal  35-44    7.660000   \n",
       "2011   Monday    Audience 2      Carousal      Carousal  45-54    3.800000   \n",
       "2012   Monday    Audience 2      Carousal      Carousal  55-64    0.450000   \n",
       "2013   Monday    Audience 2         Image         Click  25-34  117.130000   \n",
       "...       ...           ...           ...           ...    ...         ...   \n",
       "13808  Friday    Audience 1         Image         Click  55-64    6.409971   \n",
       "13809  Friday    Audience 1         Image          Girl  25-34  255.620000   \n",
       "13810  Friday    Audience 1         Image          Girl  35-44   89.060000   \n",
       "13811  Friday    Audience 1         Image          Girl  45-54   24.350000   \n",
       "13812  Friday    Audience 1         Image          Girl  55-64    1.430000   \n",
       "\n",
       "       impressions  clicks  \n",
       "2009           730      12  \n",
       "2010            71       1  \n",
       "2011            32       1  \n",
       "2012             3       0  \n",
       "2013           638      36  \n",
       "...            ...     ...  \n",
       "13808           68       1  \n",
       "13809         1895      30  \n",
       "13810          764       7  \n",
       "13811          228      11  \n",
       "13812           18       1  \n",
       "\n",
       "[1733 rows x 8 columns]"
      ]
     },
     "execution_count": 545,
     "metadata": {},
     "output_type": "execute_result"
    }
   ],
   "source": [
    "fb2=fb[['Day' ,'audience_type', 'creative_type',\n",
    "       'creative_name', 'age', 'spends', 'impressions', 'clicks']]\n",
    "fb2"
   ]
  },
  {
   "cell_type": "code",
   "execution_count": 546,
   "metadata": {},
   "outputs": [
    {
     "name": "stderr",
     "output_type": "stream",
     "text": [
      "C:\\ProgramData\\Anaconda3\\lib\\site-packages\\ipykernel_launcher.py:4: SettingWithCopyWarning: \n",
      "A value is trying to be set on a copy of a slice from a DataFrame.\n",
      "Try using .loc[row_indexer,col_indexer] = value instead\n",
      "\n",
      "See the caveats in the documentation: https://pandas.pydata.org/pandas-docs/stable/user_guide/indexing.html#returning-a-view-versus-a-copy\n",
      "  after removing the cwd from sys.path.\n",
      "C:\\ProgramData\\Anaconda3\\lib\\site-packages\\ipykernel_launcher.py:5: SettingWithCopyWarning: \n",
      "A value is trying to be set on a copy of a slice from a DataFrame.\n",
      "Try using .loc[row_indexer,col_indexer] = value instead\n",
      "\n",
      "See the caveats in the documentation: https://pandas.pydata.org/pandas-docs/stable/user_guide/indexing.html#returning-a-view-versus-a-copy\n",
      "  \"\"\"\n",
      "C:\\ProgramData\\Anaconda3\\lib\\site-packages\\ipykernel_launcher.py:6: SettingWithCopyWarning: \n",
      "A value is trying to be set on a copy of a slice from a DataFrame.\n",
      "Try using .loc[row_indexer,col_indexer] = value instead\n",
      "\n",
      "See the caveats in the documentation: https://pandas.pydata.org/pandas-docs/stable/user_guide/indexing.html#returning-a-view-versus-a-copy\n",
      "  \n",
      "C:\\ProgramData\\Anaconda3\\lib\\site-packages\\ipykernel_launcher.py:7: SettingWithCopyWarning: \n",
      "A value is trying to be set on a copy of a slice from a DataFrame.\n",
      "Try using .loc[row_indexer,col_indexer] = value instead\n",
      "\n",
      "See the caveats in the documentation: https://pandas.pydata.org/pandas-docs/stable/user_guide/indexing.html#returning-a-view-versus-a-copy\n",
      "  import sys\n",
      "C:\\ProgramData\\Anaconda3\\lib\\site-packages\\ipykernel_launcher.py:8: SettingWithCopyWarning: \n",
      "A value is trying to be set on a copy of a slice from a DataFrame.\n",
      "Try using .loc[row_indexer,col_indexer] = value instead\n",
      "\n",
      "See the caveats in the documentation: https://pandas.pydata.org/pandas-docs/stable/user_guide/indexing.html#returning-a-view-versus-a-copy\n",
      "  \n"
     ]
    }
   ],
   "source": [
    "#Converts all the categorical data to numerical values\n",
    "from sklearn.preprocessing import LabelEncoder\n",
    "le=LabelEncoder()\n",
    "fb2['Day']=le.fit_transform(fb['Day'])\n",
    "fb2['audience_type']=le.fit_transform(fb2['audience_type'])\n",
    "fb2['creative_type']=le.fit_transform(fb2['creative_type'])\n",
    "fb2['creative_name']=le.fit_transform(fb2['creative_name'])\n",
    "fb2['age']=le.fit_transform(fb2['age'])"
   ]
  },
  {
   "cell_type": "code",
   "execution_count": 547,
   "metadata": {},
   "outputs": [
    {
     "data": {
      "text/html": [
       "<div>\n",
       "<style scoped>\n",
       "    .dataframe tbody tr th:only-of-type {\n",
       "        vertical-align: middle;\n",
       "    }\n",
       "\n",
       "    .dataframe tbody tr th {\n",
       "        vertical-align: top;\n",
       "    }\n",
       "\n",
       "    .dataframe thead th {\n",
       "        text-align: right;\n",
       "    }\n",
       "</style>\n",
       "<table border=\"1\" class=\"dataframe\">\n",
       "  <thead>\n",
       "    <tr style=\"text-align: right;\">\n",
       "      <th></th>\n",
       "      <th>Day</th>\n",
       "      <th>audience_type</th>\n",
       "      <th>creative_type</th>\n",
       "      <th>creative_name</th>\n",
       "      <th>age</th>\n",
       "      <th>spends</th>\n",
       "      <th>impressions</th>\n",
       "      <th>clicks</th>\n",
       "    </tr>\n",
       "  </thead>\n",
       "  <tbody>\n",
       "    <tr>\n",
       "      <th>2009</th>\n",
       "      <td>1</td>\n",
       "      <td>1</td>\n",
       "      <td>0</td>\n",
       "      <td>0</td>\n",
       "      <td>0</td>\n",
       "      <td>70.280000</td>\n",
       "      <td>730</td>\n",
       "      <td>12</td>\n",
       "    </tr>\n",
       "    <tr>\n",
       "      <th>2010</th>\n",
       "      <td>1</td>\n",
       "      <td>1</td>\n",
       "      <td>0</td>\n",
       "      <td>0</td>\n",
       "      <td>1</td>\n",
       "      <td>7.660000</td>\n",
       "      <td>71</td>\n",
       "      <td>1</td>\n",
       "    </tr>\n",
       "    <tr>\n",
       "      <th>2011</th>\n",
       "      <td>1</td>\n",
       "      <td>1</td>\n",
       "      <td>0</td>\n",
       "      <td>0</td>\n",
       "      <td>2</td>\n",
       "      <td>3.800000</td>\n",
       "      <td>32</td>\n",
       "      <td>1</td>\n",
       "    </tr>\n",
       "    <tr>\n",
       "      <th>2012</th>\n",
       "      <td>1</td>\n",
       "      <td>1</td>\n",
       "      <td>0</td>\n",
       "      <td>0</td>\n",
       "      <td>3</td>\n",
       "      <td>0.450000</td>\n",
       "      <td>3</td>\n",
       "      <td>0</td>\n",
       "    </tr>\n",
       "    <tr>\n",
       "      <th>2013</th>\n",
       "      <td>1</td>\n",
       "      <td>1</td>\n",
       "      <td>1</td>\n",
       "      <td>1</td>\n",
       "      <td>0</td>\n",
       "      <td>117.130000</td>\n",
       "      <td>638</td>\n",
       "      <td>36</td>\n",
       "    </tr>\n",
       "    <tr>\n",
       "      <th>...</th>\n",
       "      <td>...</td>\n",
       "      <td>...</td>\n",
       "      <td>...</td>\n",
       "      <td>...</td>\n",
       "      <td>...</td>\n",
       "      <td>...</td>\n",
       "      <td>...</td>\n",
       "      <td>...</td>\n",
       "    </tr>\n",
       "    <tr>\n",
       "      <th>13808</th>\n",
       "      <td>0</td>\n",
       "      <td>0</td>\n",
       "      <td>1</td>\n",
       "      <td>1</td>\n",
       "      <td>3</td>\n",
       "      <td>6.409971</td>\n",
       "      <td>68</td>\n",
       "      <td>1</td>\n",
       "    </tr>\n",
       "    <tr>\n",
       "      <th>13809</th>\n",
       "      <td>0</td>\n",
       "      <td>0</td>\n",
       "      <td>1</td>\n",
       "      <td>2</td>\n",
       "      <td>0</td>\n",
       "      <td>255.620000</td>\n",
       "      <td>1895</td>\n",
       "      <td>30</td>\n",
       "    </tr>\n",
       "    <tr>\n",
       "      <th>13810</th>\n",
       "      <td>0</td>\n",
       "      <td>0</td>\n",
       "      <td>1</td>\n",
       "      <td>2</td>\n",
       "      <td>1</td>\n",
       "      <td>89.060000</td>\n",
       "      <td>764</td>\n",
       "      <td>7</td>\n",
       "    </tr>\n",
       "    <tr>\n",
       "      <th>13811</th>\n",
       "      <td>0</td>\n",
       "      <td>0</td>\n",
       "      <td>1</td>\n",
       "      <td>2</td>\n",
       "      <td>2</td>\n",
       "      <td>24.350000</td>\n",
       "      <td>228</td>\n",
       "      <td>11</td>\n",
       "    </tr>\n",
       "    <tr>\n",
       "      <th>13812</th>\n",
       "      <td>0</td>\n",
       "      <td>0</td>\n",
       "      <td>1</td>\n",
       "      <td>2</td>\n",
       "      <td>3</td>\n",
       "      <td>1.430000</td>\n",
       "      <td>18</td>\n",
       "      <td>1</td>\n",
       "    </tr>\n",
       "  </tbody>\n",
       "</table>\n",
       "<p>1733 rows × 8 columns</p>\n",
       "</div>"
      ],
      "text/plain": [
       "       Day  audience_type  creative_type  creative_name  age      spends  \\\n",
       "2009     1              1              0              0    0   70.280000   \n",
       "2010     1              1              0              0    1    7.660000   \n",
       "2011     1              1              0              0    2    3.800000   \n",
       "2012     1              1              0              0    3    0.450000   \n",
       "2013     1              1              1              1    0  117.130000   \n",
       "...    ...            ...            ...            ...  ...         ...   \n",
       "13808    0              0              1              1    3    6.409971   \n",
       "13809    0              0              1              2    0  255.620000   \n",
       "13810    0              0              1              2    1   89.060000   \n",
       "13811    0              0              1              2    2   24.350000   \n",
       "13812    0              0              1              2    3    1.430000   \n",
       "\n",
       "       impressions  clicks  \n",
       "2009           730      12  \n",
       "2010            71       1  \n",
       "2011            32       1  \n",
       "2012             3       0  \n",
       "2013           638      36  \n",
       "...            ...     ...  \n",
       "13808           68       1  \n",
       "13809         1895      30  \n",
       "13810          764       7  \n",
       "13811          228      11  \n",
       "13812           18       1  \n",
       "\n",
       "[1733 rows x 8 columns]"
      ]
     },
     "execution_count": 547,
     "metadata": {},
     "output_type": "execute_result"
    }
   ],
   "source": [
    "fb2"
   ]
  },
  {
   "cell_type": "code",
   "execution_count": 569,
   "metadata": {},
   "outputs": [],
   "source": [
    "X=fb2.loc[:, fb2.columns !='spends']\n",
    "Y=fb2['spends']"
   ]
  },
  {
   "cell_type": "code",
   "execution_count": 570,
   "metadata": {},
   "outputs": [],
   "source": [
    "from sklearn.model_selection import train_test_split\n",
    "X_train, X_test, y_train, y_test = train_test_split(X, Y, test_size=0.1, random_state=42)"
   ]
  },
  {
   "cell_type": "code",
   "execution_count": 571,
   "metadata": {},
   "outputs": [
    {
     "data": {
      "text/plain": [
       "RandomForestRegressor(bootstrap=True, ccp_alpha=0.0, criterion='mse',\n",
       "                      max_depth=10, max_features='auto', max_leaf_nodes=None,\n",
       "                      max_samples=None, min_impurity_decrease=0.0,\n",
       "                      min_impurity_split=None, min_samples_leaf=1,\n",
       "                      min_samples_split=2, min_weight_fraction_leaf=0.0,\n",
       "                      n_estimators=100, n_jobs=None, oob_score=False,\n",
       "                      random_state=0, verbose=0, warm_start=False)"
      ]
     },
     "execution_count": 571,
     "metadata": {},
     "output_type": "execute_result"
    }
   ],
   "source": [
    "from sklearn.ensemble import RandomForestRegressor\n",
    "from sklearn.datasets import make_regression\n",
    "regr = RandomForestRegressor(max_depth=10, random_state=0)\n",
    "regr.fit(X_train, y_train)"
   ]
  },
  {
   "cell_type": "code",
   "execution_count": 596,
   "metadata": {},
   "outputs": [
    {
     "data": {
      "image/png": "[encoded data removed]",
      "text/plain": [
       "<Figure size 432x288 with 1 Axes>"
      ]
     },
     "metadata": {
      "needs_background": "light"
     },
     "output_type": "display_data"
    }
   ],
   "source": [
    "import matplotlib.lines as mlines\n",
    "import matplotlib.transforms as mtransforms\n",
    "fig, ax = plt.subplots()\n",
    "ax.scatter(regr.predict(X_test),y_test)\n",
    "line = mlines.Line2D([0,1], [0,1], color='red')\n",
    "transform = ax.transAxes\n",
    "line.set_transform(transform)\n",
    "ax.add_line(line)\n",
    "plt.show()"
   ]
  },
  {
   "cell_type": "markdown",
   "metadata": {},
   "source": [
    "Since most of the data lies in and around y=x, the predicted values are very close to actual values"
   ]
  },
  {
   "cell_type": "code",
   "execution_count": 575,
   "metadata": {},
   "outputs": [
    {
     "data": {
      "text/html": [
       "<div>\n",
       "<style scoped>\n",
       "    .dataframe tbody tr th:only-of-type {\n",
       "        vertical-align: middle;\n",
       "    }\n",
       "\n",
       "    .dataframe tbody tr th {\n",
       "        vertical-align: top;\n",
       "    }\n",
       "\n",
       "    .dataframe thead th {\n",
       "        text-align: right;\n",
       "    }\n",
       "</style>\n",
       "<table border=\"1\" class=\"dataframe\">\n",
       "  <thead>\n",
       "    <tr style=\"text-align: right;\">\n",
       "      <th></th>\n",
       "      <th>p</th>\n",
       "      <th>y</th>\n",
       "    </tr>\n",
       "  </thead>\n",
       "  <tbody>\n",
       "    <tr>\n",
       "      <th>0</th>\n",
       "      <td>136.047749</td>\n",
       "      <td>81.63</td>\n",
       "    </tr>\n",
       "    <tr>\n",
       "      <th>1</th>\n",
       "      <td>34.759229</td>\n",
       "      <td>30.92</td>\n",
       "    </tr>\n",
       "    <tr>\n",
       "      <th>2</th>\n",
       "      <td>7.156000</td>\n",
       "      <td>8.00</td>\n",
       "    </tr>\n",
       "    <tr>\n",
       "      <th>3</th>\n",
       "      <td>1.662507</td>\n",
       "      <td>0.80</td>\n",
       "    </tr>\n",
       "    <tr>\n",
       "      <th>4</th>\n",
       "      <td>70.111191</td>\n",
       "      <td>43.57</td>\n",
       "    </tr>\n",
       "    <tr>\n",
       "      <th>...</th>\n",
       "      <td>...</td>\n",
       "      <td>...</td>\n",
       "    </tr>\n",
       "    <tr>\n",
       "      <th>169</th>\n",
       "      <td>6731.503512</td>\n",
       "      <td>6905.75</td>\n",
       "    </tr>\n",
       "    <tr>\n",
       "      <th>170</th>\n",
       "      <td>59.024763</td>\n",
       "      <td>59.44</td>\n",
       "    </tr>\n",
       "    <tr>\n",
       "      <th>171</th>\n",
       "      <td>96.174029</td>\n",
       "      <td>121.63</td>\n",
       "    </tr>\n",
       "    <tr>\n",
       "      <th>172</th>\n",
       "      <td>0.160800</td>\n",
       "      <td>0.03</td>\n",
       "    </tr>\n",
       "    <tr>\n",
       "      <th>173</th>\n",
       "      <td>0.169435</td>\n",
       "      <td>0.38</td>\n",
       "    </tr>\n",
       "  </tbody>\n",
       "</table>\n",
       "<p>174 rows × 2 columns</p>\n",
       "</div>"
      ],
      "text/plain": [
       "               p        y\n",
       "0     136.047749    81.63\n",
       "1      34.759229    30.92\n",
       "2       7.156000     8.00\n",
       "3       1.662507     0.80\n",
       "4      70.111191    43.57\n",
       "..           ...      ...\n",
       "169  6731.503512  6905.75\n",
       "170    59.024763    59.44\n",
       "171    96.174029   121.63\n",
       "172     0.160800     0.03\n",
       "173     0.169435     0.38\n",
       "\n",
       "[174 rows x 2 columns]"
      ]
     },
     "execution_count": 575,
     "metadata": {},
     "output_type": "execute_result"
    }
   ],
   "source": [
    "d=pd.DataFrame()\n",
    "d['p']=p\n",
    "d['y']=y_test.values\n",
    "d"
   ]
  },
  {
   "cell_type": "markdown",
   "metadata": {},
   "source": [
    "## Brief Analysis of Google Ads"
   ]
  },
  {
   "cell_type": "code",
   "execution_count": 34,
   "metadata": {},
   "outputs": [],
   "source": [
    "goog=df[df.campaign_platform=='Google Ads']"
   ]
  },
  {
   "cell_type": "code",
   "execution_count": 35,
   "metadata": {},
   "outputs": [
    {
     "data": {
      "text/html": [
       "<div>\n",
       "<style scoped>\n",
       "    .dataframe tbody tr th:only-of-type {\n",
       "        vertical-align: middle;\n",
       "    }\n",
       "\n",
       "    .dataframe tbody tr th {\n",
       "        vertical-align: top;\n",
       "    }\n",
       "\n",
       "    .dataframe thead th {\n",
       "        text-align: right;\n",
       "    }\n",
       "</style>\n",
       "<table border=\"1\" class=\"dataframe\">\n",
       "  <thead>\n",
       "    <tr style=\"text-align: right;\">\n",
       "      <th></th>\n",
       "      <th>Date</th>\n",
       "      <th>product</th>\n",
       "      <th>phase</th>\n",
       "      <th>campaign_platform</th>\n",
       "      <th>campaign_type</th>\n",
       "      <th>communication_medium</th>\n",
       "      <th>subchannel</th>\n",
       "      <th>audience_type</th>\n",
       "      <th>creative_type</th>\n",
       "      <th>creative_name</th>\n",
       "      <th>device</th>\n",
       "      <th>age</th>\n",
       "      <th>spends</th>\n",
       "      <th>impressions</th>\n",
       "      <th>clicks</th>\n",
       "      <th>link_clicks</th>\n",
       "    </tr>\n",
       "  </thead>\n",
       "  <tbody>\n",
       "    <tr>\n",
       "      <th>0</th>\n",
       "      <td>2019-10-16</td>\n",
       "      <td>Product 1</td>\n",
       "      <td>Performance</td>\n",
       "      <td>Google Ads</td>\n",
       "      <td>Search</td>\n",
       "      <td>Search Keywords</td>\n",
       "      <td>Brand</td>\n",
       "      <td>'-</td>\n",
       "      <td>'-</td>\n",
       "      <td>'-</td>\n",
       "      <td>Desktop</td>\n",
       "      <td>18-24</td>\n",
       "      <td>0.00</td>\n",
       "      <td>2</td>\n",
       "      <td>0</td>\n",
       "      <td>0.0</td>\n",
       "    </tr>\n",
       "    <tr>\n",
       "      <th>1</th>\n",
       "      <td>2019-10-16</td>\n",
       "      <td>Product 1</td>\n",
       "      <td>Performance</td>\n",
       "      <td>Google Ads</td>\n",
       "      <td>Search</td>\n",
       "      <td>Search Keywords</td>\n",
       "      <td>Brand</td>\n",
       "      <td>'-</td>\n",
       "      <td>'-</td>\n",
       "      <td>'-</td>\n",
       "      <td>Desktop</td>\n",
       "      <td>25-34</td>\n",
       "      <td>0.00</td>\n",
       "      <td>5</td>\n",
       "      <td>0</td>\n",
       "      <td>0.0</td>\n",
       "    </tr>\n",
       "    <tr>\n",
       "      <th>2</th>\n",
       "      <td>2019-10-16</td>\n",
       "      <td>Product 1</td>\n",
       "      <td>Performance</td>\n",
       "      <td>Google Ads</td>\n",
       "      <td>Search</td>\n",
       "      <td>Search Keywords</td>\n",
       "      <td>Brand</td>\n",
       "      <td>'-</td>\n",
       "      <td>'-</td>\n",
       "      <td>'-</td>\n",
       "      <td>Desktop</td>\n",
       "      <td>35-44</td>\n",
       "      <td>0.00</td>\n",
       "      <td>1</td>\n",
       "      <td>0</td>\n",
       "      <td>0.0</td>\n",
       "    </tr>\n",
       "    <tr>\n",
       "      <th>3</th>\n",
       "      <td>2019-10-16</td>\n",
       "      <td>Product 1</td>\n",
       "      <td>Performance</td>\n",
       "      <td>Google Ads</td>\n",
       "      <td>Search</td>\n",
       "      <td>Search Keywords</td>\n",
       "      <td>Brand</td>\n",
       "      <td>'-</td>\n",
       "      <td>'-</td>\n",
       "      <td>'-</td>\n",
       "      <td>Desktop</td>\n",
       "      <td>Undetermined</td>\n",
       "      <td>14.63</td>\n",
       "      <td>5</td>\n",
       "      <td>3</td>\n",
       "      <td>0.0</td>\n",
       "    </tr>\n",
       "    <tr>\n",
       "      <th>4</th>\n",
       "      <td>2019-10-18</td>\n",
       "      <td>Product 1</td>\n",
       "      <td>Performance</td>\n",
       "      <td>Google Ads</td>\n",
       "      <td>Search</td>\n",
       "      <td>Search Keywords</td>\n",
       "      <td>Brand</td>\n",
       "      <td>'-</td>\n",
       "      <td>'-</td>\n",
       "      <td>'-</td>\n",
       "      <td>Desktop</td>\n",
       "      <td>18-24</td>\n",
       "      <td>53.31</td>\n",
       "      <td>10</td>\n",
       "      <td>2</td>\n",
       "      <td>0.0</td>\n",
       "    </tr>\n",
       "  </tbody>\n",
       "</table>\n",
       "</div>"
      ],
      "text/plain": [
       "        Date    product        phase campaign_platform campaign_type  \\\n",
       "0 2019-10-16  Product 1  Performance        Google Ads        Search   \n",
       "1 2019-10-16  Product 1  Performance        Google Ads        Search   \n",
       "2 2019-10-16  Product 1  Performance        Google Ads        Search   \n",
       "3 2019-10-16  Product 1  Performance        Google Ads        Search   \n",
       "4 2019-10-18  Product 1  Performance        Google Ads        Search   \n",
       "\n",
       "  communication_medium subchannel audience_type creative_type creative_name  \\\n",
       "0      Search Keywords      Brand            '-            '-            '-   \n",
       "1      Search Keywords      Brand            '-            '-            '-   \n",
       "2      Search Keywords      Brand            '-            '-            '-   \n",
       "3      Search Keywords      Brand            '-            '-            '-   \n",
       "4      Search Keywords      Brand            '-            '-            '-   \n",
       "\n",
       "    device           age  spends  impressions  clicks  link_clicks  \n",
       "0  Desktop         18-24    0.00            2       0          0.0  \n",
       "1  Desktop         25-34    0.00            5       0          0.0  \n",
       "2  Desktop         35-44    0.00            1       0          0.0  \n",
       "3  Desktop  Undetermined   14.63            5       3          0.0  \n",
       "4  Desktop         18-24   53.31           10       2          0.0  "
      ]
     },
     "execution_count": 35,
     "metadata": {},
     "output_type": "execute_result"
    }
   ],
   "source": [
    "goog.head()"
   ]
  },
  {
   "cell_type": "code",
   "execution_count": 36,
   "metadata": {},
   "outputs": [
    {
     "name": "stdout",
     "output_type": "stream",
     "text": [
      "Counter({'Product 1': 15101})\n",
      "Counter({'Performance': 15101})\n",
      "Counter({'Google Ads': 15101})\n",
      "Counter({'Search': 15101})\n",
      "Counter({'Search Keywords': 15101})\n",
      "Counter({'Brand': 7853, 'Generic': 4544, 'Competitor': 2704})\n",
      "Counter({\"'-\": 15101})\n",
      "Counter({\"'-\": 15101})\n",
      "Counter({\"'-\": 15101})\n",
      "Counter({'Mobile': 7357, 'Desktop': 6318, 'Tablet': 1426})\n",
      "Counter({'25-34': 2609, 'Undetermined': 2586, '18-24': 2472, '35-44': 2380, '45-54': 2022, '65 or more': 1558, '55-64': 1474})\n"
     ]
    }
   ],
   "source": [
    "for i in categorical:\n",
    "    print(Counter(goog[i]))"
   ]
  },
  {
   "cell_type": "code",
   "execution_count": null,
   "metadata": {},
   "outputs": [],
   "source": []
  },
  {
   "cell_type": "markdown",
   "metadata": {},
   "source": [
    "### Insights : All google ads have campaign type as search, communication method as search keywords, subchannel falling into one of three categories (brand, generic, competitor), no information on audience_type\tcreative_type\tcreative_name since these parameters don't apply here."
   ]
  },
  {
   "cell_type": "code",
   "execution_count": 47,
   "metadata": {},
   "outputs": [
    {
     "data": {
      "text/html": [
       "<div>\n",
       "<style scoped>\n",
       "    .dataframe tbody tr th:only-of-type {\n",
       "        vertical-align: middle;\n",
       "    }\n",
       "\n",
       "    .dataframe tbody tr th {\n",
       "        vertical-align: top;\n",
       "    }\n",
       "\n",
       "    .dataframe thead th {\n",
       "        text-align: right;\n",
       "    }\n",
       "</style>\n",
       "<table border=\"1\" class=\"dataframe\">\n",
       "  <thead>\n",
       "    <tr style=\"text-align: right;\">\n",
       "      <th></th>\n",
       "      <th>spends</th>\n",
       "      <th>impressions</th>\n",
       "      <th>clicks</th>\n",
       "      <th>link_clicks</th>\n",
       "    </tr>\n",
       "  </thead>\n",
       "  <tbody>\n",
       "    <tr>\n",
       "      <th>count</th>\n",
       "      <td>15101.000000</td>\n",
       "      <td>15101.000000</td>\n",
       "      <td>15101.000000</td>\n",
       "      <td>15101.0</td>\n",
       "    </tr>\n",
       "    <tr>\n",
       "      <th>mean</th>\n",
       "      <td>128.402308</td>\n",
       "      <td>51.446460</td>\n",
       "      <td>8.215681</td>\n",
       "      <td>0.0</td>\n",
       "    </tr>\n",
       "    <tr>\n",
       "      <th>std</th>\n",
       "      <td>343.175609</td>\n",
       "      <td>108.860186</td>\n",
       "      <td>17.069159</td>\n",
       "      <td>0.0</td>\n",
       "    </tr>\n",
       "    <tr>\n",
       "      <th>min</th>\n",
       "      <td>0.000000</td>\n",
       "      <td>0.000000</td>\n",
       "      <td>0.000000</td>\n",
       "      <td>0.0</td>\n",
       "    </tr>\n",
       "    <tr>\n",
       "      <th>25%</th>\n",
       "      <td>0.000000</td>\n",
       "      <td>3.000000</td>\n",
       "      <td>0.000000</td>\n",
       "      <td>0.0</td>\n",
       "    </tr>\n",
       "    <tr>\n",
       "      <th>50%</th>\n",
       "      <td>23.040000</td>\n",
       "      <td>11.000000</td>\n",
       "      <td>2.000000</td>\n",
       "      <td>0.0</td>\n",
       "    </tr>\n",
       "    <tr>\n",
       "      <th>75%</th>\n",
       "      <td>107.170000</td>\n",
       "      <td>45.000000</td>\n",
       "      <td>7.000000</td>\n",
       "      <td>0.0</td>\n",
       "    </tr>\n",
       "    <tr>\n",
       "      <th>max</th>\n",
       "      <td>5004.380000</td>\n",
       "      <td>1788.000000</td>\n",
       "      <td>328.000000</td>\n",
       "      <td>0.0</td>\n",
       "    </tr>\n",
       "  </tbody>\n",
       "</table>\n",
       "</div>"
      ],
      "text/plain": [
       "             spends   impressions        clicks  link_clicks\n",
       "count  15101.000000  15101.000000  15101.000000      15101.0\n",
       "mean     128.402308     51.446460      8.215681          0.0\n",
       "std      343.175609    108.860186     17.069159          0.0\n",
       "min        0.000000      0.000000      0.000000          0.0\n",
       "25%        0.000000      3.000000      0.000000          0.0\n",
       "50%       23.040000     11.000000      2.000000          0.0\n",
       "75%      107.170000     45.000000      7.000000          0.0\n",
       "max     5004.380000   1788.000000    328.000000          0.0"
      ]
     },
     "execution_count": 47,
     "metadata": {},
     "output_type": "execute_result"
    }
   ],
   "source": [
    "goog.describe()"
   ]
  },
  {
   "cell_type": "code",
   "execution_count": 48,
   "metadata": {},
   "outputs": [
    {
     "data": {
      "text/html": [
       "<div>\n",
       "<style scoped>\n",
       "    .dataframe tbody tr th:only-of-type {\n",
       "        vertical-align: middle;\n",
       "    }\n",
       "\n",
       "    .dataframe tbody tr th {\n",
       "        vertical-align: top;\n",
       "    }\n",
       "\n",
       "    .dataframe thead th {\n",
       "        text-align: right;\n",
       "    }\n",
       "</style>\n",
       "<table border=\"1\" class=\"dataframe\">\n",
       "  <thead>\n",
       "    <tr style=\"text-align: right;\">\n",
       "      <th></th>\n",
       "      <th>spends</th>\n",
       "      <th>impressions</th>\n",
       "      <th>clicks</th>\n",
       "      <th>link_clicks</th>\n",
       "    </tr>\n",
       "  </thead>\n",
       "  <tbody>\n",
       "    <tr>\n",
       "      <th>count</th>\n",
       "      <td>1733.000000</td>\n",
       "      <td>1733.000000</td>\n",
       "      <td>1733.000000</td>\n",
       "      <td>1187.000000</td>\n",
       "    </tr>\n",
       "    <tr>\n",
       "      <th>mean</th>\n",
       "      <td>325.513855</td>\n",
       "      <td>2348.881708</td>\n",
       "      <td>44.759954</td>\n",
       "      <td>29.781803</td>\n",
       "    </tr>\n",
       "    <tr>\n",
       "      <th>std</th>\n",
       "      <td>1101.859732</td>\n",
       "      <td>7296.050662</td>\n",
       "      <td>125.557211</td>\n",
       "      <td>62.914343</td>\n",
       "    </tr>\n",
       "    <tr>\n",
       "      <th>min</th>\n",
       "      <td>0.000000</td>\n",
       "      <td>1.000000</td>\n",
       "      <td>0.000000</td>\n",
       "      <td>1.000000</td>\n",
       "    </tr>\n",
       "    <tr>\n",
       "      <th>25%</th>\n",
       "      <td>2.690000</td>\n",
       "      <td>30.000000</td>\n",
       "      <td>1.000000</td>\n",
       "      <td>2.000000</td>\n",
       "    </tr>\n",
       "    <tr>\n",
       "      <th>50%</th>\n",
       "      <td>18.770000</td>\n",
       "      <td>165.000000</td>\n",
       "      <td>4.000000</td>\n",
       "      <td>7.000000</td>\n",
       "    </tr>\n",
       "    <tr>\n",
       "      <th>75%</th>\n",
       "      <td>151.590000</td>\n",
       "      <td>1330.000000</td>\n",
       "      <td>28.000000</td>\n",
       "      <td>26.000000</td>\n",
       "    </tr>\n",
       "    <tr>\n",
       "      <th>max</th>\n",
       "      <td>9221.960000</td>\n",
       "      <td>67454.000000</td>\n",
       "      <td>1075.000000</td>\n",
       "      <td>450.000000</td>\n",
       "    </tr>\n",
       "  </tbody>\n",
       "</table>\n",
       "</div>"
      ],
      "text/plain": [
       "            spends   impressions       clicks  link_clicks\n",
       "count  1733.000000   1733.000000  1733.000000  1187.000000\n",
       "mean    325.513855   2348.881708    44.759954    29.781803\n",
       "std    1101.859732   7296.050662   125.557211    62.914343\n",
       "min       0.000000      1.000000     0.000000     1.000000\n",
       "25%       2.690000     30.000000     1.000000     2.000000\n",
       "50%      18.770000    165.000000     4.000000     7.000000\n",
       "75%     151.590000   1330.000000    28.000000    26.000000\n",
       "max    9221.960000  67454.000000  1075.000000   450.000000"
      ]
     },
     "execution_count": 48,
     "metadata": {},
     "output_type": "execute_result"
    }
   ],
   "source": [
    "fb.describe()"
   ]
  },
  {
   "cell_type": "code",
   "execution_count": null,
   "metadata": {},
   "outputs": [],
   "source": []
  }
 ],
 "metadata": {
  "kernelspec": {
   "display_name": "Python 3",
   "language": "python",
   "name": "python3"
  },
  "language_info": {
   "codemirror_mode": {
    "name": "ipython",
    "version": 3
   },
   "file_extension": ".py",
   "mimetype": "text/x-python",
   "name": "python",
   "nbconvert_exporter": "python",
   "pygments_lexer": "ipython3",
   "version": "3.7.3"
  }
 },
 "nbformat": 4,
 "nbformat_minor": 2
}
